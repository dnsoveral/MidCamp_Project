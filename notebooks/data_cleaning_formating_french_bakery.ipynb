{
 "cells": [
  {
   "cell_type": "markdown",
   "id": "563c202a-5cef-48e8-b8ed-bf6e05cbbdeb",
   "metadata": {},
   "source": [
    "# Importing Libraries"
   ]
  },
  {
   "cell_type": "code",
   "execution_count": 1,
   "id": "d8f1c7a6-b39c-4882-a0b6-177075d7eea6",
   "metadata": {},
   "outputs": [],
   "source": [
    "import pandas as pd\n",
    "import yaml"
   ]
  },
  {
   "cell_type": "code",
   "execution_count": 2,
   "id": "1c1b38db-884e-470a-96b8-5230bc774d8b",
   "metadata": {},
   "outputs": [],
   "source": [
    "try:\n",
    "    with open('../config.yaml', \"r\") as file:\n",
    "        config = yaml.safe_load(file)\n",
    "except Exception:\n",
    "    print(\"Config file not found!!!\")"
   ]
  },
  {
   "cell_type": "markdown",
   "id": "66cd51f9-2a57-4c11-a91e-3d13e0dc2f7c",
   "metadata": {},
   "source": [
    "# Calling file and displaying it as well as his info"
   ]
  },
  {
   "cell_type": "code",
   "execution_count": 3,
   "id": "e83829c7-713b-496c-bee3-cb0009617f75",
   "metadata": {},
   "outputs": [
    {
     "data": {
      "text/html": [
       "<div>\n",
       "<style scoped>\n",
       "    .dataframe tbody tr th:only-of-type {\n",
       "        vertical-align: middle;\n",
       "    }\n",
       "\n",
       "    .dataframe tbody tr th {\n",
       "        vertical-align: top;\n",
       "    }\n",
       "\n",
       "    .dataframe thead th {\n",
       "        text-align: right;\n",
       "    }\n",
       "</style>\n",
       "<table border=\"1\" class=\"dataframe\">\n",
       "  <thead>\n",
       "    <tr style=\"text-align: right;\">\n",
       "      <th></th>\n",
       "      <th>Unnamed: 0</th>\n",
       "      <th>date</th>\n",
       "      <th>time</th>\n",
       "      <th>ticket_number</th>\n",
       "      <th>article</th>\n",
       "      <th>Quantity</th>\n",
       "      <th>unit_price</th>\n",
       "    </tr>\n",
       "  </thead>\n",
       "  <tbody>\n",
       "    <tr>\n",
       "      <th>0</th>\n",
       "      <td>0</td>\n",
       "      <td>2021-01-02</td>\n",
       "      <td>08:38</td>\n",
       "      <td>150040.0</td>\n",
       "      <td>BAGUETTE</td>\n",
       "      <td>1.0</td>\n",
       "      <td>0,90 €</td>\n",
       "    </tr>\n",
       "    <tr>\n",
       "      <th>1</th>\n",
       "      <td>1</td>\n",
       "      <td>2021-01-02</td>\n",
       "      <td>08:38</td>\n",
       "      <td>150040.0</td>\n",
       "      <td>PAIN AU CHOCOLAT</td>\n",
       "      <td>3.0</td>\n",
       "      <td>1,20 €</td>\n",
       "    </tr>\n",
       "    <tr>\n",
       "      <th>2</th>\n",
       "      <td>4</td>\n",
       "      <td>2021-01-02</td>\n",
       "      <td>09:14</td>\n",
       "      <td>150041.0</td>\n",
       "      <td>PAIN AU CHOCOLAT</td>\n",
       "      <td>2.0</td>\n",
       "      <td>1,20 €</td>\n",
       "    </tr>\n",
       "    <tr>\n",
       "      <th>3</th>\n",
       "      <td>5</td>\n",
       "      <td>2021-01-02</td>\n",
       "      <td>09:14</td>\n",
       "      <td>150041.0</td>\n",
       "      <td>PAIN</td>\n",
       "      <td>1.0</td>\n",
       "      <td>1,15 €</td>\n",
       "    </tr>\n",
       "    <tr>\n",
       "      <th>4</th>\n",
       "      <td>8</td>\n",
       "      <td>2021-01-02</td>\n",
       "      <td>09:25</td>\n",
       "      <td>150042.0</td>\n",
       "      <td>TRADITIONAL BAGUETTE</td>\n",
       "      <td>5.0</td>\n",
       "      <td>1,20 €</td>\n",
       "    </tr>\n",
       "    <tr>\n",
       "      <th>...</th>\n",
       "      <td>...</td>\n",
       "      <td>...</td>\n",
       "      <td>...</td>\n",
       "      <td>...</td>\n",
       "      <td>...</td>\n",
       "      <td>...</td>\n",
       "      <td>...</td>\n",
       "    </tr>\n",
       "    <tr>\n",
       "      <th>234000</th>\n",
       "      <td>511387</td>\n",
       "      <td>2022-09-30</td>\n",
       "      <td>18:52</td>\n",
       "      <td>288911.0</td>\n",
       "      <td>COUPE</td>\n",
       "      <td>1.0</td>\n",
       "      <td>0,15 €</td>\n",
       "    </tr>\n",
       "    <tr>\n",
       "      <th>234001</th>\n",
       "      <td>511388</td>\n",
       "      <td>2022-09-30</td>\n",
       "      <td>18:52</td>\n",
       "      <td>288911.0</td>\n",
       "      <td>BOULE 200G</td>\n",
       "      <td>1.0</td>\n",
       "      <td>1,20 €</td>\n",
       "    </tr>\n",
       "    <tr>\n",
       "      <th>234002</th>\n",
       "      <td>511389</td>\n",
       "      <td>2022-09-30</td>\n",
       "      <td>18:52</td>\n",
       "      <td>288911.0</td>\n",
       "      <td>COUPE</td>\n",
       "      <td>2.0</td>\n",
       "      <td>0,15 €</td>\n",
       "    </tr>\n",
       "    <tr>\n",
       "      <th>234003</th>\n",
       "      <td>511392</td>\n",
       "      <td>2022-09-30</td>\n",
       "      <td>18:55</td>\n",
       "      <td>288912.0</td>\n",
       "      <td>TRADITIONAL BAGUETTE</td>\n",
       "      <td>1.0</td>\n",
       "      <td>1,30 €</td>\n",
       "    </tr>\n",
       "    <tr>\n",
       "      <th>234004</th>\n",
       "      <td>511395</td>\n",
       "      <td>2022-09-30</td>\n",
       "      <td>18:56</td>\n",
       "      <td>288913.0</td>\n",
       "      <td>TRADITIONAL BAGUETTE</td>\n",
       "      <td>1.0</td>\n",
       "      <td>1,30 €</td>\n",
       "    </tr>\n",
       "  </tbody>\n",
       "</table>\n",
       "<p>234005 rows × 7 columns</p>\n",
       "</div>"
      ],
      "text/plain": [
       "        Unnamed: 0        date   time  ticket_number               article  \\\n",
       "0                0  2021-01-02  08:38       150040.0              BAGUETTE   \n",
       "1                1  2021-01-02  08:38       150040.0      PAIN AU CHOCOLAT   \n",
       "2                4  2021-01-02  09:14       150041.0      PAIN AU CHOCOLAT   \n",
       "3                5  2021-01-02  09:14       150041.0                  PAIN   \n",
       "4                8  2021-01-02  09:25       150042.0  TRADITIONAL BAGUETTE   \n",
       "...            ...         ...    ...            ...                   ...   \n",
       "234000      511387  2022-09-30  18:52       288911.0                 COUPE   \n",
       "234001      511388  2022-09-30  18:52       288911.0            BOULE 200G   \n",
       "234002      511389  2022-09-30  18:52       288911.0                 COUPE   \n",
       "234003      511392  2022-09-30  18:55       288912.0  TRADITIONAL BAGUETTE   \n",
       "234004      511395  2022-09-30  18:56       288913.0  TRADITIONAL BAGUETTE   \n",
       "\n",
       "        Quantity unit_price  \n",
       "0            1.0     0,90 €  \n",
       "1            3.0     1,20 €  \n",
       "2            2.0     1,20 €  \n",
       "3            1.0     1,15 €  \n",
       "4            5.0     1,20 €  \n",
       "...          ...        ...  \n",
       "234000       1.0     0,15 €  \n",
       "234001       1.0     1,20 €  \n",
       "234002       2.0     0,15 €  \n",
       "234003       1.0     1,30 €  \n",
       "234004       1.0     1,30 €  \n",
       "\n",
       "[234005 rows x 7 columns]"
      ]
     },
     "metadata": {},
     "output_type": "display_data"
    },
    {
     "name": "stdout",
     "output_type": "stream",
     "text": [
      "<class 'pandas.core.frame.DataFrame'>\n",
      "RangeIndex: 234005 entries, 0 to 234004\n",
      "Data columns (total 7 columns):\n",
      " #   Column         Non-Null Count   Dtype  \n",
      "---  ------         --------------   -----  \n",
      " 0   Unnamed: 0     234005 non-null  int64  \n",
      " 1   date           234005 non-null  object \n",
      " 2   time           234005 non-null  object \n",
      " 3   ticket_number  234005 non-null  float64\n",
      " 4   article        234005 non-null  object \n",
      " 5   Quantity       234005 non-null  float64\n",
      " 6   unit_price     234005 non-null  object \n",
      "dtypes: float64(2), int64(1), object(4)\n",
      "memory usage: 12.5+ MB\n"
     ]
    }
   ],
   "source": [
    "bakery_data = pd.read_csv(config['data']['input'])\n",
    "display(bakery_data)\n",
    "bakery_data.info()"
   ]
  },
  {
   "cell_type": "markdown",
   "id": "297f89fb-56a5-418a-b5b2-912e153c2b42",
   "metadata": {},
   "source": [
    "# Dropping column 'Unnamed: 0'"
   ]
  },
  {
   "cell_type": "code",
   "execution_count": 4,
   "id": "93870c35-5191-42c7-a8a5-877a24851d1f",
   "metadata": {},
   "outputs": [],
   "source": [
    "bakery_data.drop('Unnamed: 0', axis=1, inplace=True)"
   ]
  },
  {
   "cell_type": "markdown",
   "id": "35ce90ea-8dfa-4545-b0f2-797468015039",
   "metadata": {},
   "source": [
    "# Formating column to lowercase and replacing white spaces with underscore where it is needed"
   ]
  },
  {
   "cell_type": "code",
   "execution_count": 5,
   "id": "d3eb9dad-ff2e-45e5-b7d4-c1ee06cfa2c0",
   "metadata": {},
   "outputs": [],
   "source": [
    "def format_dataframe(df: pd.DataFrame) -> pd.DataFrame:\n",
    "    \"\"\"\n",
    "    Creates a Copy of the Original DataFrame. Formats the DataFrame column names to lowercase and formats the 'article' column values to lowercase\n",
    "    with underscores instead of spaces.\n",
    "\n",
    "    Args:\n",
    "        df (pd.DataFrame): The input DataFrame.\n",
    "\n",
    "    Returns:\n",
    "        df (pd.DataFrame): The modified DataFrame with lowercase column names and formatted 'Item' values.\n",
    "    \"\"\"\n",
    "\n",
    "    # Rename columns to lowercase\n",
    "    df.columns = df.columns.str.lower()\n",
    "\n",
    "    # Format 'article' column values to lowercase with underscores\n",
    "    df['article'] = df['article'].str.lower().str.replace(' ', '_')\n",
    "\n",
    "    return df"
   ]
  },
  {
   "cell_type": "markdown",
   "id": "94bb4b90-0518-4a10-b640-85a23f0672be",
   "metadata": {},
   "source": [
    "# Applying the function and calling the DataFrame to check the changes"
   ]
  },
  {
   "cell_type": "code",
   "execution_count": 6,
   "id": "9c39410a-78c9-45f3-b7b9-4c7f1f72e547",
   "metadata": {},
   "outputs": [
    {
     "data": {
      "text/html": [
       "<div>\n",
       "<style scoped>\n",
       "    .dataframe tbody tr th:only-of-type {\n",
       "        vertical-align: middle;\n",
       "    }\n",
       "\n",
       "    .dataframe tbody tr th {\n",
       "        vertical-align: top;\n",
       "    }\n",
       "\n",
       "    .dataframe thead th {\n",
       "        text-align: right;\n",
       "    }\n",
       "</style>\n",
       "<table border=\"1\" class=\"dataframe\">\n",
       "  <thead>\n",
       "    <tr style=\"text-align: right;\">\n",
       "      <th></th>\n",
       "      <th>date</th>\n",
       "      <th>time</th>\n",
       "      <th>ticket_number</th>\n",
       "      <th>article</th>\n",
       "      <th>quantity</th>\n",
       "      <th>unit_price</th>\n",
       "    </tr>\n",
       "  </thead>\n",
       "  <tbody>\n",
       "    <tr>\n",
       "      <th>0</th>\n",
       "      <td>2021-01-02</td>\n",
       "      <td>08:38</td>\n",
       "      <td>150040.0</td>\n",
       "      <td>baguette</td>\n",
       "      <td>1.0</td>\n",
       "      <td>0,90 €</td>\n",
       "    </tr>\n",
       "    <tr>\n",
       "      <th>1</th>\n",
       "      <td>2021-01-02</td>\n",
       "      <td>08:38</td>\n",
       "      <td>150040.0</td>\n",
       "      <td>pain_au_chocolat</td>\n",
       "      <td>3.0</td>\n",
       "      <td>1,20 €</td>\n",
       "    </tr>\n",
       "    <tr>\n",
       "      <th>2</th>\n",
       "      <td>2021-01-02</td>\n",
       "      <td>09:14</td>\n",
       "      <td>150041.0</td>\n",
       "      <td>pain_au_chocolat</td>\n",
       "      <td>2.0</td>\n",
       "      <td>1,20 €</td>\n",
       "    </tr>\n",
       "    <tr>\n",
       "      <th>3</th>\n",
       "      <td>2021-01-02</td>\n",
       "      <td>09:14</td>\n",
       "      <td>150041.0</td>\n",
       "      <td>pain</td>\n",
       "      <td>1.0</td>\n",
       "      <td>1,15 €</td>\n",
       "    </tr>\n",
       "    <tr>\n",
       "      <th>4</th>\n",
       "      <td>2021-01-02</td>\n",
       "      <td>09:25</td>\n",
       "      <td>150042.0</td>\n",
       "      <td>traditional_baguette</td>\n",
       "      <td>5.0</td>\n",
       "      <td>1,20 €</td>\n",
       "    </tr>\n",
       "  </tbody>\n",
       "</table>\n",
       "</div>"
      ],
      "text/plain": [
       "         date   time  ticket_number               article  quantity unit_price\n",
       "0  2021-01-02  08:38       150040.0              baguette       1.0     0,90 €\n",
       "1  2021-01-02  08:38       150040.0      pain_au_chocolat       3.0     1,20 €\n",
       "2  2021-01-02  09:14       150041.0      pain_au_chocolat       2.0     1,20 €\n",
       "3  2021-01-02  09:14       150041.0                  pain       1.0     1,15 €\n",
       "4  2021-01-02  09:25       150042.0  traditional_baguette       5.0     1,20 €"
      ]
     },
     "execution_count": 6,
     "metadata": {},
     "output_type": "execute_result"
    }
   ],
   "source": [
    "bakery_data = format_dataframe(bakery_data)\n",
    "bakery_data.head()"
   ]
  },
  {
   "cell_type": "markdown",
   "id": "40a84eda-4555-41a2-8c30-53409bf7ee1d",
   "metadata": {},
   "source": [
    "# Moving Column ticket_number to the beginning as it is the column that identifies all others"
   ]
  },
  {
   "cell_type": "code",
   "execution_count": 7,
   "id": "1c9313ca-20ab-46a4-bce3-536c3c0dc3c7",
   "metadata": {},
   "outputs": [],
   "source": [
    "def move_column_to_beginning(df: pd.DataFrame, column_name: str) -> pd.DataFrame:\n",
    "    \"\"\"\n",
    "    Moves a given column to the beginning of a DataFrame.\n",
    "\n",
    "    Args:\n",
    "        - df (pd.DataFrame): The DataFrame to modify.\n",
    "        - column_name (str): The name of the column to move.\n",
    "\n",
    "    Returns:\n",
    "        df (pd.DataFrame): The modified DataFrame with the specified column moved to the beginning.\n",
    "    \"\"\"\n",
    "    # Identify the column name and store it in a variable\n",
    "    column_to_move = df[column_name]\n",
    "    \n",
    "    # Drop the column\n",
    "    df = df.drop(column_name, axis=1)\n",
    "    \n",
    "    # Insert the column in the beggining as index 0 and axis 1\n",
    "    df.insert(0, column_name, column_to_move)\n",
    "    \n",
    "    return df"
   ]
  },
  {
   "cell_type": "markdown",
   "id": "96a0c2a6-c17a-426e-986c-7462822ea5fa",
   "metadata": {},
   "source": [
    "# Calling the function and checking change"
   ]
  },
  {
   "cell_type": "code",
   "execution_count": 8,
   "id": "d92919d6-52a7-4f2b-8875-1d516e9cc101",
   "metadata": {},
   "outputs": [
    {
     "data": {
      "text/html": [
       "<div>\n",
       "<style scoped>\n",
       "    .dataframe tbody tr th:only-of-type {\n",
       "        vertical-align: middle;\n",
       "    }\n",
       "\n",
       "    .dataframe tbody tr th {\n",
       "        vertical-align: top;\n",
       "    }\n",
       "\n",
       "    .dataframe thead th {\n",
       "        text-align: right;\n",
       "    }\n",
       "</style>\n",
       "<table border=\"1\" class=\"dataframe\">\n",
       "  <thead>\n",
       "    <tr style=\"text-align: right;\">\n",
       "      <th></th>\n",
       "      <th>ticket_number</th>\n",
       "      <th>date</th>\n",
       "      <th>time</th>\n",
       "      <th>article</th>\n",
       "      <th>quantity</th>\n",
       "      <th>unit_price</th>\n",
       "    </tr>\n",
       "  </thead>\n",
       "  <tbody>\n",
       "    <tr>\n",
       "      <th>0</th>\n",
       "      <td>150040.0</td>\n",
       "      <td>2021-01-02</td>\n",
       "      <td>08:38</td>\n",
       "      <td>baguette</td>\n",
       "      <td>1.0</td>\n",
       "      <td>0,90 €</td>\n",
       "    </tr>\n",
       "    <tr>\n",
       "      <th>1</th>\n",
       "      <td>150040.0</td>\n",
       "      <td>2021-01-02</td>\n",
       "      <td>08:38</td>\n",
       "      <td>pain_au_chocolat</td>\n",
       "      <td>3.0</td>\n",
       "      <td>1,20 €</td>\n",
       "    </tr>\n",
       "    <tr>\n",
       "      <th>2</th>\n",
       "      <td>150041.0</td>\n",
       "      <td>2021-01-02</td>\n",
       "      <td>09:14</td>\n",
       "      <td>pain_au_chocolat</td>\n",
       "      <td>2.0</td>\n",
       "      <td>1,20 €</td>\n",
       "    </tr>\n",
       "    <tr>\n",
       "      <th>3</th>\n",
       "      <td>150041.0</td>\n",
       "      <td>2021-01-02</td>\n",
       "      <td>09:14</td>\n",
       "      <td>pain</td>\n",
       "      <td>1.0</td>\n",
       "      <td>1,15 €</td>\n",
       "    </tr>\n",
       "    <tr>\n",
       "      <th>4</th>\n",
       "      <td>150042.0</td>\n",
       "      <td>2021-01-02</td>\n",
       "      <td>09:25</td>\n",
       "      <td>traditional_baguette</td>\n",
       "      <td>5.0</td>\n",
       "      <td>1,20 €</td>\n",
       "    </tr>\n",
       "  </tbody>\n",
       "</table>\n",
       "</div>"
      ],
      "text/plain": [
       "   ticket_number        date   time               article  quantity unit_price\n",
       "0       150040.0  2021-01-02  08:38              baguette       1.0     0,90 €\n",
       "1       150040.0  2021-01-02  08:38      pain_au_chocolat       3.0     1,20 €\n",
       "2       150041.0  2021-01-02  09:14      pain_au_chocolat       2.0     1,20 €\n",
       "3       150041.0  2021-01-02  09:14                  pain       1.0     1,15 €\n",
       "4       150042.0  2021-01-02  09:25  traditional_baguette       5.0     1,20 €"
      ]
     },
     "execution_count": 8,
     "metadata": {},
     "output_type": "execute_result"
    }
   ],
   "source": [
    "bakery_data = move_column_to_beginning(bakery_data, 'ticket_number')\n",
    "bakery_data.head()"
   ]
  },
  {
   "cell_type": "markdown",
   "id": "bd0fe2a3-4f14-4b2d-9687-3e38f6f1417e",
   "metadata": {},
   "source": [
    "# Calling column 'article' unique values to check for uninteresting values for the intended analysis"
   ]
  },
  {
   "cell_type": "code",
   "execution_count": 9,
   "id": "a48dc557-2cc6-4752-b833-e90e85809c65",
   "metadata": {},
   "outputs": [
    {
     "data": {
      "text/plain": [
       "array(['baguette', 'pain_au_chocolat', 'pain', 'traditional_baguette',\n",
       "       'croissant', 'banette', 'banettine', 'special_bread', 'coupe',\n",
       "       'sand_jb_emmental', 'kouign_amann', 'boule_200g', 'boule_400g',\n",
       "       'gal_frangipane_6p', 'campagne', 'moisson', 'cafe_ou_eau',\n",
       "       'brioche', 'cereal_baguette', 'seigle', 'complet',\n",
       "       'divers_patisserie', 'gal_frangipane_4p', 'cookie', 'ficelle',\n",
       "       'pain_aux_raisins', 'gal_pomme_6p', 'gal_pomme_4p', 'financier_x5',\n",
       "       'vik_bread', 'divers_viennoiserie', 'gache', 'sandwich_complet',\n",
       "       'pain_banette', 'grand_far_breton', 'quim_bread',\n",
       "       'special_bread_kg', 'gd_kouign_amann', 'boule_polka',\n",
       "       'demi_baguette', 'chausson_aux_pommes', 'baguette_graine',\n",
       "       'divers_confiserie', 'sucette', 'divers_boulangerie',\n",
       "       'boisson_33cl', 'pates', 'formule_sandwich', 'divers_sandwichs',\n",
       "       'croissant_amandes', 'pain_choco_amandes', 'sachet_viennoiserie',\n",
       "       'nantais', 'chocolat', 'pain_s/sel', 'fondant_chocolat',\n",
       "       'gal_poire_choco_6p', 'gal_poire_choco_4p', 'galette_8_pers',\n",
       "       'sand_jb', 'sachet_de_crouton', 'grande_sucette', 'demi_pain',\n",
       "       'tartelette', 'flan', 'paris_brest', 'savarin', 'flan_abricot',\n",
       "       'baguette_apero', 'milles_feuilles', 'chou_chantilly', 'eclair',\n",
       "       'royal_4p', 'tarte_fruits_6p', 'tarte_fruits_4p', 'noix_japonaise',\n",
       "       'the', 'briochette', 'royal_6p', 'eclair_fraise_pistache', '.',\n",
       "       'gd_far_breton', 'triangles', 'tropezienne',\n",
       "       'tropezienne_framboise', 'royal', 'tarte_fraise_6p',\n",
       "       'tartelette_fraise', 'tarte_fraise_4per', 'fraisier',\n",
       "       'nid_de_poule', 'tartelette_choc', 'pain_de_mie', 'crumble',\n",
       "       'financier', 'divers_boissons', 'cake', 'viennoise', 'traiteur',\n",
       "       'pain_graines', 'platprepare6,50', 'platprepare5,50',\n",
       "       'platprepare7,00', 'formule_plat_prepare', 'st_honore', 'brownies',\n",
       "       'religieuse', 'platprepare6,00', 'delicetropical',\n",
       "       'crumblecaramel_ou_pistae', 'pt_nantais', 'gd_nantais',\n",
       "       'douceur_d_hiver', 'trois_chocolat', 'article_295', 'tarte_fine',\n",
       "       'entremets', 'brioche_de_noel', 'framboisier', 'buche_4pers',\n",
       "       'buche_6pers', 'gd_plateau_sale', 'buche_8pers', 'pt_plateau_sale',\n",
       "       'reduction_sucrees_12', 'pain_noir', 'reduction_sucrees_24',\n",
       "       'bottereau', 'meringue', 'palmier', 'paille', 'plat_6.50e',\n",
       "       'plat_7.60e', 'plat_7.00', 'plat', 'plat_8.30e', 'formule_pate',\n",
       "       'guerandais', 'palet_breton', 'caramel_noix', 'macaron',\n",
       "       '12_macaron', 'armoricain', 'plaque_tarte_25p', 'sable_f__p',\n",
       "       'pain_suisse_pepito', 'tulipe', 'tartelette_cocktail',\n",
       "       'sachet_de_viennoiserie'], dtype=object)"
      ]
     },
     "execution_count": 9,
     "metadata": {},
     "output_type": "execute_result"
    }
   ],
   "source": [
    "bakery_data['article'].unique()"
   ]
  },
  {
   "cell_type": "code",
   "execution_count": 10,
   "id": "221fb842-0565-4ebe-aeda-13ed3b61252a",
   "metadata": {},
   "outputs": [
    {
     "data": {
      "text/plain": [
       "149"
      ]
     },
     "execution_count": 10,
     "metadata": {},
     "output_type": "execute_result"
    }
   ],
   "source": [
    "bakery_data['article'].nunique()"
   ]
  },
  {
   "cell_type": "markdown",
   "id": "62b7460a-e0f4-4302-a9b0-2a5628198be8",
   "metadata": {},
   "source": [
    "# Creating and applying function to drop uninteresting values from column 'articles'"
   ]
  },
  {
   "cell_type": "code",
   "execution_count": 11,
   "id": "32b9e4f1-cd45-4219-b9f4-66c837297809",
   "metadata": {},
   "outputs": [],
   "source": [
    "def drop_values_from_column(df: pd.DataFrame, column: str, values: list) -> pd.DataFrame:\n",
    "    \"\"\"\n",
    "    Drops specified values from a given column in the DataFrame.\n",
    "\n",
    "    Args:\n",
    "        df (pd.DataFrame): The input DataFrame.\n",
    "        column (str): The name of the column from which values need to be dropped.\n",
    "        values (list): A list of values to be dropped from the column.\n",
    "\n",
    "    Returns:\n",
    "        df (pd.DataFrame): The modified DataFrame with dropped values from the specified column.\n",
    "    \"\"\"\n",
    "\n",
    "    # Drop rows containing specified values from the column\n",
    "    df = df[df[column].isin(values) == False].reset_index(drop=True)\n",
    "\n",
    "    return df"
   ]
  },
  {
   "cell_type": "code",
   "execution_count": 12,
   "id": "38214b67-d353-4aaf-9a31-a2c34504fa1d",
   "metadata": {},
   "outputs": [],
   "source": [
    "values_to_drop = ['coupe', 'traiteur', 'the', 'plat_6.50e', 'plat_7.60e', 'plat_7.00',\n",
    "       'plat', 'plat_8.30e', 'formule_pate', 'pt_plateau_sale', 'reduction_sucrees_12', '.', 'platprepare6,50', 'platprepare5,50', 'platprepare7,00',\n",
    "       'formule_plat_prepare', 'platprepare6,00', 'article_295', 'reduction_sucrees_24', 'gd_plateau_sale']"
   ]
  },
  {
   "cell_type": "code",
   "execution_count": 13,
   "id": "9f027868-28b2-4226-a074-ba9f542df9c0",
   "metadata": {},
   "outputs": [],
   "source": [
    "bakery_data = drop_values_from_column(bakery_data, 'article', config['analysis']['values_to_drop'])"
   ]
  },
  {
   "cell_type": "markdown",
   "id": "cb6cd6f0-e4dc-40d3-82d0-aa62784b2eba",
   "metadata": {},
   "source": [
    "### Drop rows with string 'divers' included in any column"
   ]
  },
  {
   "cell_type": "code",
   "execution_count": 14,
   "id": "7b15f9ce-adb6-48eb-83d4-ddb37b8681f5",
   "metadata": {},
   "outputs": [],
   "source": [
    "bakery_data = bakery_data[~bakery_data.article.str.contains(\"divers\")]"
   ]
  },
  {
   "cell_type": "markdown",
   "id": "55b1dbe6-c7d4-4035-bdc5-b9ccb35902e1",
   "metadata": {},
   "source": [
    "### checking if all the desired rows were dropped"
   ]
  },
  {
   "cell_type": "code",
   "execution_count": 15,
   "id": "fb7fb012-4ccd-4142-be25-076cd629302e",
   "metadata": {},
   "outputs": [
    {
     "data": {
      "text/plain": [
       "array(['baguette', 'pain_au_chocolat', 'pain', 'traditional_baguette',\n",
       "       'croissant', 'banette', 'banettine', 'special_bread',\n",
       "       'sand_jb_emmental', 'kouign_amann', 'boule_200g', 'boule_400g',\n",
       "       'gal_frangipane_6p', 'campagne', 'moisson', 'cafe_ou_eau',\n",
       "       'brioche', 'cereal_baguette', 'seigle', 'complet',\n",
       "       'gal_frangipane_4p', 'cookie', 'ficelle', 'pain_aux_raisins',\n",
       "       'gal_pomme_6p', 'gal_pomme_4p', 'financier_x5', 'vik_bread',\n",
       "       'gache', 'sandwich_complet', 'pain_banette', 'grand_far_breton',\n",
       "       'quim_bread', 'special_bread_kg', 'gd_kouign_amann', 'boule_polka',\n",
       "       'demi_baguette', 'chausson_aux_pommes', 'baguette_graine',\n",
       "       'sucette', 'boisson_33cl', 'pates', 'formule_sandwich',\n",
       "       'croissant_amandes', 'pain_choco_amandes', 'sachet_viennoiserie',\n",
       "       'nantais', 'chocolat', 'pain_s/sel', 'fondant_chocolat',\n",
       "       'gal_poire_choco_6p', 'gal_poire_choco_4p', 'galette_8_pers',\n",
       "       'sand_jb', 'sachet_de_crouton', 'grande_sucette', 'demi_pain',\n",
       "       'tartelette', 'flan', 'paris_brest', 'savarin', 'flan_abricot',\n",
       "       'baguette_apero', 'milles_feuilles', 'chou_chantilly', 'eclair',\n",
       "       'royal_4p', 'tarte_fruits_6p', 'tarte_fruits_4p', 'noix_japonaise',\n",
       "       'briochette', 'royal_6p', 'eclair_fraise_pistache',\n",
       "       'gd_far_breton', 'triangles', 'tropezienne',\n",
       "       'tropezienne_framboise', 'royal', 'tarte_fraise_6p',\n",
       "       'tartelette_fraise', 'tarte_fraise_4per', 'fraisier',\n",
       "       'nid_de_poule', 'tartelette_choc', 'pain_de_mie', 'crumble',\n",
       "       'financier', 'cake', 'viennoise', 'pain_graines', 'st_honore',\n",
       "       'brownies', 'religieuse', 'delicetropical',\n",
       "       'crumblecaramel_ou_pistae', 'pt_nantais', 'gd_nantais',\n",
       "       'douceur_d_hiver', 'trois_chocolat', 'tarte_fine', 'entremets',\n",
       "       'brioche_de_noel', 'framboisier', 'buche_4pers', 'buche_6pers',\n",
       "       'buche_8pers', 'pain_noir', 'bottereau', 'meringue', 'palmier',\n",
       "       'paille', 'guerandais', 'palet_breton', 'caramel_noix', 'macaron',\n",
       "       '12_macaron', 'armoricain', 'plaque_tarte_25p', 'sable_f__p',\n",
       "       'pain_suisse_pepito', 'tulipe', 'tartelette_cocktail',\n",
       "       'sachet_de_viennoiserie'], dtype=object)"
      ]
     },
     "execution_count": 15,
     "metadata": {},
     "output_type": "execute_result"
    }
   ],
   "source": [
    "bakery_data['article'].unique()"
   ]
  },
  {
   "cell_type": "code",
   "execution_count": 16,
   "id": "19eee446-d100-4d1d-aaed-646b12634fc4",
   "metadata": {},
   "outputs": [
    {
     "data": {
      "text/plain": [
       "123"
      ]
     },
     "execution_count": 16,
     "metadata": {},
     "output_type": "execute_result"
    }
   ],
   "source": [
    "bakery_data['article'].nunique()"
   ]
  },
  {
   "cell_type": "code",
   "execution_count": 17,
   "id": "4bd944d6-2018-4e66-9b73-aebc3efa5aa6",
   "metadata": {},
   "outputs": [
    {
     "name": "stdout",
     "output_type": "stream",
     "text": [
      "<class 'pandas.core.frame.DataFrame'>\n",
      "Index: 209254 entries, 0 to 211702\n",
      "Data columns (total 6 columns):\n",
      " #   Column         Non-Null Count   Dtype  \n",
      "---  ------         --------------   -----  \n",
      " 0   ticket_number  209254 non-null  float64\n",
      " 1   date           209254 non-null  object \n",
      " 2   time           209254 non-null  object \n",
      " 3   article        209254 non-null  object \n",
      " 4   quantity       209254 non-null  float64\n",
      " 5   unit_price     209254 non-null  object \n",
      "dtypes: float64(2), object(4)\n",
      "memory usage: 11.2+ MB\n"
     ]
    }
   ],
   "source": [
    "bakery_data.info()"
   ]
  },
  {
   "cell_type": "markdown",
   "id": "69242c2d-e14b-4ee8-9422-e7f0b8ff404a",
   "metadata": {},
   "source": [
    "# Creating and applying function to convert column to float as well as replacing and removing symbols"
   ]
  },
  {
   "cell_type": "code",
   "execution_count": 18,
   "id": "6c291d96-721e-4f9c-af6e-280f11297c4b",
   "metadata": {},
   "outputs": [],
   "source": [
    "def convert_column_to_float(df: pd.DataFrame, column_name: str, symbol_to_remove: str) -> pd.DataFrame:\n",
    "    \"\"\"\n",
    "    Convert a column in a DataFrame from object to float64 type,\n",
    "    remove a specified symbol, and substitute ',' with '.' in its values.\n",
    "    \n",
    "    Args:\n",
    "        df (pd.DataFrame): The DataFrame containing the column.\n",
    "        column_name (str): The name of the column to convert.\n",
    "        symbol_to_remove (str): The symbol to remove from the column values.\n",
    "    \n",
    "    Returns:\n",
    "        df (pd.DataFrame): The modified DataFrame with the specified column converted to float64 type,\n",
    "                      the symbol removed from its values, and ',' substituted with '.'.\n",
    "    \"\"\"\n",
    "    \n",
    "    # Remove specified symbol from the column values in the copied DataFrame\n",
    "    df[column_name] = df[column_name].str.replace(symbol_to_remove, '')\n",
    "    \n",
    "    # Substitute ',' with '.' in the column values in the copied DataFrame\n",
    "    df[column_name] = df[column_name].str.replace(',', '.')\n",
    "    \n",
    "    # Convert the copied column to float64 type in the copied DataFrame\n",
    "    df[column_name] = df[column_name].astype('float64')\n",
    "    \n",
    "    return df"
   ]
  },
  {
   "cell_type": "code",
   "execution_count": 19,
   "id": "383e65da-a383-4af6-8e6d-050fbfac720e",
   "metadata": {},
   "outputs": [],
   "source": [
    "bakery_data = convert_column_to_float(bakery_data, 'unit_price', '€')"
   ]
  },
  {
   "cell_type": "markdown",
   "id": "06862f14-6fc9-46e7-9374-eba9ee8d007d",
   "metadata": {},
   "source": [
    "### Checking changes to Dataframe"
   ]
  },
  {
   "cell_type": "code",
   "execution_count": 20,
   "id": "df4a5be6-809f-4076-98e6-e658350dc290",
   "metadata": {},
   "outputs": [
    {
     "name": "stdout",
     "output_type": "stream",
     "text": [
      "<class 'pandas.core.frame.DataFrame'>\n",
      "Index: 209254 entries, 0 to 211702\n",
      "Data columns (total 6 columns):\n",
      " #   Column         Non-Null Count   Dtype  \n",
      "---  ------         --------------   -----  \n",
      " 0   ticket_number  209254 non-null  float64\n",
      " 1   date           209254 non-null  object \n",
      " 2   time           209254 non-null  object \n",
      " 3   article        209254 non-null  object \n",
      " 4   quantity       209254 non-null  float64\n",
      " 5   unit_price     209254 non-null  float64\n",
      "dtypes: float64(3), object(3)\n",
      "memory usage: 11.2+ MB\n"
     ]
    },
    {
     "data": {
      "text/html": [
       "<div>\n",
       "<style scoped>\n",
       "    .dataframe tbody tr th:only-of-type {\n",
       "        vertical-align: middle;\n",
       "    }\n",
       "\n",
       "    .dataframe tbody tr th {\n",
       "        vertical-align: top;\n",
       "    }\n",
       "\n",
       "    .dataframe thead th {\n",
       "        text-align: right;\n",
       "    }\n",
       "</style>\n",
       "<table border=\"1\" class=\"dataframe\">\n",
       "  <thead>\n",
       "    <tr style=\"text-align: right;\">\n",
       "      <th></th>\n",
       "      <th>count</th>\n",
       "      <th>mean</th>\n",
       "      <th>std</th>\n",
       "      <th>min</th>\n",
       "      <th>25%</th>\n",
       "      <th>50%</th>\n",
       "      <th>75%</th>\n",
       "      <th>max</th>\n",
       "    </tr>\n",
       "  </thead>\n",
       "  <tbody>\n",
       "    <tr>\n",
       "      <th>ticket_number</th>\n",
       "      <td>209254.0</td>\n",
       "      <td>219300.71</td>\n",
       "      <td>40091.99</td>\n",
       "      <td>150040.0</td>\n",
       "      <td>184723.25</td>\n",
       "      <td>218723.50</td>\n",
       "      <td>254214.75</td>\n",
       "      <td>288913.0</td>\n",
       "    </tr>\n",
       "    <tr>\n",
       "      <th>quantity</th>\n",
       "      <td>209254.0</td>\n",
       "      <td>1.59</td>\n",
       "      <td>1.34</td>\n",
       "      <td>-200.0</td>\n",
       "      <td>1.00</td>\n",
       "      <td>1.00</td>\n",
       "      <td>2.00</td>\n",
       "      <td>200.0</td>\n",
       "    </tr>\n",
       "    <tr>\n",
       "      <th>unit_price</th>\n",
       "      <td>209254.0</td>\n",
       "      <td>1.72</td>\n",
       "      <td>1.55</td>\n",
       "      <td>0.0</td>\n",
       "      <td>1.15</td>\n",
       "      <td>1.25</td>\n",
       "      <td>1.50</td>\n",
       "      <td>35.0</td>\n",
       "    </tr>\n",
       "  </tbody>\n",
       "</table>\n",
       "</div>"
      ],
      "text/plain": [
       "                  count       mean       std       min        25%        50%  \\\n",
       "ticket_number  209254.0  219300.71  40091.99  150040.0  184723.25  218723.50   \n",
       "quantity       209254.0       1.59      1.34    -200.0       1.00       1.00   \n",
       "unit_price     209254.0       1.72      1.55       0.0       1.15       1.25   \n",
       "\n",
       "                     75%       max  \n",
       "ticket_number  254214.75  288913.0  \n",
       "quantity            2.00     200.0  \n",
       "unit_price          1.50      35.0  "
      ]
     },
     "execution_count": 20,
     "metadata": {},
     "output_type": "execute_result"
    }
   ],
   "source": [
    "bakery_data.info()\n",
    "round(bakery_data.describe().T, 2)"
   ]
  },
  {
   "cell_type": "markdown",
   "id": "35a53143-8d3b-4632-8de8-414e6e572196",
   "metadata": {},
   "source": [
    "# Dropping negative values from 'quantity' column as they are uninteristing and only indicate removals from transactions at checkout"
   ]
  },
  {
   "cell_type": "code",
   "execution_count": 21,
   "id": "46b9666a-629b-4ab0-a1da-fa7b10fa87a1",
   "metadata": {},
   "outputs": [],
   "source": [
    "bakery_data = bakery_data.drop(bakery_data.index[bakery_data['quantity'] < 0])"
   ]
  },
  {
   "cell_type": "code",
   "execution_count": 22,
   "id": "9f429214-b8bf-4f81-ac02-3f1518ecf077",
   "metadata": {},
   "outputs": [
    {
     "data": {
      "text/html": [
       "<div>\n",
       "<style scoped>\n",
       "    .dataframe tbody tr th:only-of-type {\n",
       "        vertical-align: middle;\n",
       "    }\n",
       "\n",
       "    .dataframe tbody tr th {\n",
       "        vertical-align: top;\n",
       "    }\n",
       "\n",
       "    .dataframe thead th {\n",
       "        text-align: right;\n",
       "    }\n",
       "</style>\n",
       "<table border=\"1\" class=\"dataframe\">\n",
       "  <thead>\n",
       "    <tr style=\"text-align: right;\">\n",
       "      <th></th>\n",
       "      <th>count</th>\n",
       "      <th>mean</th>\n",
       "      <th>std</th>\n",
       "      <th>min</th>\n",
       "      <th>25%</th>\n",
       "      <th>50%</th>\n",
       "      <th>75%</th>\n",
       "      <th>max</th>\n",
       "    </tr>\n",
       "  </thead>\n",
       "  <tbody>\n",
       "    <tr>\n",
       "      <th>ticket_number</th>\n",
       "      <td>208081.0</td>\n",
       "      <td>219268.50</td>\n",
       "      <td>40107.87</td>\n",
       "      <td>150040.0</td>\n",
       "      <td>184688.00</td>\n",
       "      <td>218573.00</td>\n",
       "      <td>254255.0</td>\n",
       "      <td>288913.0</td>\n",
       "    </tr>\n",
       "    <tr>\n",
       "      <th>quantity</th>\n",
       "      <td>208081.0</td>\n",
       "      <td>1.60</td>\n",
       "      <td>1.24</td>\n",
       "      <td>1.0</td>\n",
       "      <td>1.00</td>\n",
       "      <td>1.00</td>\n",
       "      <td>2.0</td>\n",
       "      <td>200.0</td>\n",
       "    </tr>\n",
       "    <tr>\n",
       "      <th>unit_price</th>\n",
       "      <td>208081.0</td>\n",
       "      <td>1.72</td>\n",
       "      <td>1.55</td>\n",
       "      <td>0.0</td>\n",
       "      <td>1.15</td>\n",
       "      <td>1.25</td>\n",
       "      <td>1.5</td>\n",
       "      <td>35.0</td>\n",
       "    </tr>\n",
       "  </tbody>\n",
       "</table>\n",
       "</div>"
      ],
      "text/plain": [
       "                  count       mean       std       min        25%        50%  \\\n",
       "ticket_number  208081.0  219268.50  40107.87  150040.0  184688.00  218573.00   \n",
       "quantity       208081.0       1.60      1.24       1.0       1.00       1.00   \n",
       "unit_price     208081.0       1.72      1.55       0.0       1.15       1.25   \n",
       "\n",
       "                    75%       max  \n",
       "ticket_number  254255.0  288913.0  \n",
       "quantity            2.0     200.0  \n",
       "unit_price          1.5      35.0  "
      ]
     },
     "execution_count": 22,
     "metadata": {},
     "output_type": "execute_result"
    }
   ],
   "source": [
    "round(bakery_data.describe().T, 2)"
   ]
  },
  {
   "cell_type": "code",
   "execution_count": 23,
   "id": "d8d2c2ee-3f32-4c9c-baa2-06397b93f9b5",
   "metadata": {},
   "outputs": [
    {
     "data": {
      "text/html": [
       "<div>\n",
       "<style scoped>\n",
       "    .dataframe tbody tr th:only-of-type {\n",
       "        vertical-align: middle;\n",
       "    }\n",
       "\n",
       "    .dataframe tbody tr th {\n",
       "        vertical-align: top;\n",
       "    }\n",
       "\n",
       "    .dataframe thead th {\n",
       "        text-align: right;\n",
       "    }\n",
       "</style>\n",
       "<table border=\"1\" class=\"dataframe\">\n",
       "  <thead>\n",
       "    <tr style=\"text-align: right;\">\n",
       "      <th></th>\n",
       "      <th>count</th>\n",
       "      <th>unique</th>\n",
       "      <th>top</th>\n",
       "      <th>freq</th>\n",
       "    </tr>\n",
       "  </thead>\n",
       "  <tbody>\n",
       "    <tr>\n",
       "      <th>date</th>\n",
       "      <td>208081</td>\n",
       "      <td>600</td>\n",
       "      <td>2022-08-14</td>\n",
       "      <td>919</td>\n",
       "    </tr>\n",
       "    <tr>\n",
       "      <th>time</th>\n",
       "      <td>208081</td>\n",
       "      <td>683</td>\n",
       "      <td>12:11</td>\n",
       "      <td>770</td>\n",
       "    </tr>\n",
       "    <tr>\n",
       "      <th>article</th>\n",
       "      <td>208081</td>\n",
       "      <td>123</td>\n",
       "      <td>traditional_baguette</td>\n",
       "      <td>67349</td>\n",
       "    </tr>\n",
       "  </tbody>\n",
       "</table>\n",
       "</div>"
      ],
      "text/plain": [
       "          count unique                   top   freq\n",
       "date     208081    600            2022-08-14    919\n",
       "time     208081    683                 12:11    770\n",
       "article  208081    123  traditional_baguette  67349"
      ]
     },
     "execution_count": 23,
     "metadata": {},
     "output_type": "execute_result"
    }
   ],
   "source": [
    "bakery_data.describe(include=object).T"
   ]
  },
  {
   "cell_type": "markdown",
   "id": "25fcca34-5970-415a-a474-1bb1ef3a4a4a",
   "metadata": {},
   "source": [
    "# Checking 'unit_price' column for uninteresting values, like 0.00"
   ]
  },
  {
   "cell_type": "code",
   "execution_count": 24,
   "id": "f1ad5ac3-78d7-4696-8713-ff36f8317c59",
   "metadata": {},
   "outputs": [
    {
     "data": {
      "text/plain": [
       "array([ 0.9 ,  1.2 ,  1.15,  1.1 ,  1.05,  0.6 ,  2.4 ,  3.5 ,  2.1 ,\n",
       "        1.5 , 12.  ,  1.8 ,  2.  ,  1.  ,  5.  ,  1.25,  8.  ,  1.4 ,\n",
       "        3.  ,  2.5 ,  4.5 ,  7.  ,  4.8 ,  7.5 ,  1.6 ,  0.45,  1.3 ,\n",
       "        0.3 ,  6.5 ,  4.  , 16.  ,  9.  ,  0.8 , 18.  ,  0.  ,  0.7 ,\n",
       "        6.  , 11.  , 14.  , 21.  , 28.  ,  0.95,  0.5 ,  0.65,  2.2 ,\n",
       "        1.9 ,  1.7 ,  2.6 ,  1.35, 10.  ,  2.3 ,  5.2 ,  2.7 , 35.  ])"
      ]
     },
     "execution_count": 24,
     "metadata": {},
     "output_type": "execute_result"
    }
   ],
   "source": [
    "bakery_data['unit_price'].unique()"
   ]
  },
  {
   "cell_type": "code",
   "execution_count": 25,
   "id": "48b265f4-96fa-443c-a0f9-0e9d27ce155c",
   "metadata": {},
   "outputs": [
    {
     "data": {
      "text/plain": [
       "14414      0.0\n",
       "145804     0.0\n",
       "169019     0.0\n",
       "141508     0.0\n",
       "36176      0.3\n",
       "          ... \n",
       "172347    21.0\n",
       "157691    21.0\n",
       "188955    21.0\n",
       "116349    28.0\n",
       "179962    35.0\n",
       "Name: unit_price, Length: 208081, dtype: float64"
      ]
     },
     "metadata": {},
     "output_type": "display_data"
    }
   ],
   "source": [
    "display(bakery_data['unit_price'].sort_values())"
   ]
  },
  {
   "cell_type": "markdown",
   "id": "57bdc62a-1ce9-405a-9b23-d7c54697d326",
   "metadata": {},
   "source": [
    "# Dropping 0.00 values from 'unit_price' as they are uninteresting for the analysis in course"
   ]
  },
  {
   "cell_type": "code",
   "execution_count": 26,
   "id": "677c9efa-96e8-4f54-ba52-d9bc09b2cfa7",
   "metadata": {},
   "outputs": [],
   "source": [
    "bakery_data = bakery_data[bakery_data[\"unit_price\"] != 0.00]"
   ]
  },
  {
   "cell_type": "code",
   "execution_count": 27,
   "id": "9487e77b-b1ef-484d-9d95-c8657925f9f7",
   "metadata": {},
   "outputs": [
    {
     "data": {
      "text/plain": [
       "179100     0.3\n",
       "24917      0.3\n",
       "36083      0.3\n",
       "147288     0.3\n",
       "25031      0.3\n",
       "          ... \n",
       "148227    21.0\n",
       "172347    21.0\n",
       "177088    21.0\n",
       "116349    28.0\n",
       "179962    35.0\n",
       "Name: unit_price, Length: 208077, dtype: float64"
      ]
     },
     "metadata": {},
     "output_type": "display_data"
    }
   ],
   "source": [
    "display(bakery_data[\"unit_price\"].sort_values())"
   ]
  },
  {
   "cell_type": "code",
   "execution_count": 28,
   "id": "0ded02f9-6661-409a-afcb-a9522f023d15",
   "metadata": {},
   "outputs": [
    {
     "data": {
      "text/plain": [
       "array([ 0.9 ,  1.2 ,  1.15,  1.1 ,  1.05,  0.6 ,  2.4 ,  3.5 ,  2.1 ,\n",
       "        1.5 , 12.  ,  1.8 ,  2.  ,  1.  ,  5.  ,  1.25,  8.  ,  1.4 ,\n",
       "        3.  ,  2.5 ,  4.5 ,  7.  ,  4.8 ,  7.5 ,  1.6 ,  0.45,  1.3 ,\n",
       "        0.3 ,  6.5 ,  4.  , 16.  ,  9.  ,  0.8 , 18.  ,  0.7 ,  6.  ,\n",
       "       11.  , 14.  , 21.  , 28.  ,  0.95,  0.5 ,  0.65,  2.2 ,  1.9 ,\n",
       "        1.7 ,  2.6 ,  1.35, 10.  ,  2.3 ,  5.2 ,  2.7 , 35.  ])"
      ]
     },
     "execution_count": 28,
     "metadata": {},
     "output_type": "execute_result"
    }
   ],
   "source": [
    "bakery_data['unit_price'].unique()"
   ]
  },
  {
   "cell_type": "code",
   "execution_count": 29,
   "id": "0facd54c-1188-4262-9134-ce6eb72aae77",
   "metadata": {},
   "outputs": [
    {
     "name": "stdout",
     "output_type": "stream",
     "text": [
      "<class 'pandas.core.frame.DataFrame'>\n",
      "Index: 208077 entries, 0 to 211702\n",
      "Data columns (total 6 columns):\n",
      " #   Column         Non-Null Count   Dtype  \n",
      "---  ------         --------------   -----  \n",
      " 0   ticket_number  208077 non-null  float64\n",
      " 1   date           208077 non-null  object \n",
      " 2   time           208077 non-null  object \n",
      " 3   article        208077 non-null  object \n",
      " 4   quantity       208077 non-null  float64\n",
      " 5   unit_price     208077 non-null  float64\n",
      "dtypes: float64(3), object(3)\n",
      "memory usage: 11.1+ MB\n"
     ]
    },
    {
     "data": {
      "text/html": [
       "<div>\n",
       "<style scoped>\n",
       "    .dataframe tbody tr th:only-of-type {\n",
       "        vertical-align: middle;\n",
       "    }\n",
       "\n",
       "    .dataframe tbody tr th {\n",
       "        vertical-align: top;\n",
       "    }\n",
       "\n",
       "    .dataframe thead th {\n",
       "        text-align: right;\n",
       "    }\n",
       "</style>\n",
       "<table border=\"1\" class=\"dataframe\">\n",
       "  <thead>\n",
       "    <tr style=\"text-align: right;\">\n",
       "      <th></th>\n",
       "      <th>count</th>\n",
       "      <th>mean</th>\n",
       "      <th>std</th>\n",
       "      <th>min</th>\n",
       "      <th>25%</th>\n",
       "      <th>50%</th>\n",
       "      <th>75%</th>\n",
       "      <th>max</th>\n",
       "    </tr>\n",
       "  </thead>\n",
       "  <tbody>\n",
       "    <tr>\n",
       "      <th>ticket_number</th>\n",
       "      <td>208077.0</td>\n",
       "      <td>219268.35</td>\n",
       "      <td>40107.86</td>\n",
       "      <td>150040.0</td>\n",
       "      <td>184688.00</td>\n",
       "      <td>218572.00</td>\n",
       "      <td>254255.0</td>\n",
       "      <td>288913.0</td>\n",
       "    </tr>\n",
       "    <tr>\n",
       "      <th>quantity</th>\n",
       "      <td>208077.0</td>\n",
       "      <td>1.60</td>\n",
       "      <td>1.24</td>\n",
       "      <td>1.0</td>\n",
       "      <td>1.00</td>\n",
       "      <td>1.00</td>\n",
       "      <td>2.0</td>\n",
       "      <td>200.0</td>\n",
       "    </tr>\n",
       "    <tr>\n",
       "      <th>unit_price</th>\n",
       "      <td>208077.0</td>\n",
       "      <td>1.72</td>\n",
       "      <td>1.55</td>\n",
       "      <td>0.3</td>\n",
       "      <td>1.15</td>\n",
       "      <td>1.25</td>\n",
       "      <td>1.5</td>\n",
       "      <td>35.0</td>\n",
       "    </tr>\n",
       "  </tbody>\n",
       "</table>\n",
       "</div>"
      ],
      "text/plain": [
       "                  count       mean       std       min        25%        50%  \\\n",
       "ticket_number  208077.0  219268.35  40107.86  150040.0  184688.00  218572.00   \n",
       "quantity       208077.0       1.60      1.24       1.0       1.00       1.00   \n",
       "unit_price     208077.0       1.72      1.55       0.3       1.15       1.25   \n",
       "\n",
       "                    75%       max  \n",
       "ticket_number  254255.0  288913.0  \n",
       "quantity            2.0     200.0  \n",
       "unit_price          1.5      35.0  "
      ]
     },
     "execution_count": 29,
     "metadata": {},
     "output_type": "execute_result"
    }
   ],
   "source": [
    "bakery_data.info()\n",
    "round(bakery_data.describe().T, 2)"
   ]
  },
  {
   "cell_type": "code",
   "execution_count": 30,
   "id": "4d402a35-7541-4893-af14-c7cde1b08d91",
   "metadata": {},
   "outputs": [
    {
     "data": {
      "text/html": [
       "<div>\n",
       "<style scoped>\n",
       "    .dataframe tbody tr th:only-of-type {\n",
       "        vertical-align: middle;\n",
       "    }\n",
       "\n",
       "    .dataframe tbody tr th {\n",
       "        vertical-align: top;\n",
       "    }\n",
       "\n",
       "    .dataframe thead th {\n",
       "        text-align: right;\n",
       "    }\n",
       "</style>\n",
       "<table border=\"1\" class=\"dataframe\">\n",
       "  <thead>\n",
       "    <tr style=\"text-align: right;\">\n",
       "      <th></th>\n",
       "      <th>count</th>\n",
       "      <th>unique</th>\n",
       "      <th>top</th>\n",
       "      <th>freq</th>\n",
       "    </tr>\n",
       "  </thead>\n",
       "  <tbody>\n",
       "    <tr>\n",
       "      <th>date</th>\n",
       "      <td>208077</td>\n",
       "      <td>600</td>\n",
       "      <td>2022-08-14</td>\n",
       "      <td>919</td>\n",
       "    </tr>\n",
       "    <tr>\n",
       "      <th>time</th>\n",
       "      <td>208077</td>\n",
       "      <td>683</td>\n",
       "      <td>12:11</td>\n",
       "      <td>770</td>\n",
       "    </tr>\n",
       "    <tr>\n",
       "      <th>article</th>\n",
       "      <td>208077</td>\n",
       "      <td>123</td>\n",
       "      <td>traditional_baguette</td>\n",
       "      <td>67349</td>\n",
       "    </tr>\n",
       "  </tbody>\n",
       "</table>\n",
       "</div>"
      ],
      "text/plain": [
       "          count unique                   top   freq\n",
       "date     208077    600            2022-08-14    919\n",
       "time     208077    683                 12:11    770\n",
       "article  208077    123  traditional_baguette  67349"
      ]
     },
     "execution_count": 30,
     "metadata": {},
     "output_type": "execute_result"
    }
   ],
   "source": [
    "bakery_data.describe(include=object).T"
   ]
  },
  {
   "cell_type": "markdown",
   "id": "438b833c-17c5-4932-81b2-eb690d0646dc",
   "metadata": {},
   "source": [
    "# Creating DataFrame called bakery_price_table with only 'article' and 'unit_price' sorted by 'article' in ascending order"
   ]
  },
  {
   "cell_type": "code",
   "execution_count": 31,
   "id": "cdc28ba7-fb56-4f77-9ab8-3103719bad94",
   "metadata": {},
   "outputs": [],
   "source": [
    "bakery_data_table = bakery_data.copy()"
   ]
  },
  {
   "cell_type": "code",
   "execution_count": 32,
   "id": "72973f39-ebdf-4266-ae85-d03a341d94e0",
   "metadata": {},
   "outputs": [
    {
     "data": {
      "text/html": [
       "<div>\n",
       "<style scoped>\n",
       "    .dataframe tbody tr th:only-of-type {\n",
       "        vertical-align: middle;\n",
       "    }\n",
       "\n",
       "    .dataframe tbody tr th {\n",
       "        vertical-align: top;\n",
       "    }\n",
       "\n",
       "    .dataframe thead th {\n",
       "        text-align: right;\n",
       "    }\n",
       "</style>\n",
       "<table border=\"1\" class=\"dataframe\">\n",
       "  <thead>\n",
       "    <tr style=\"text-align: right;\">\n",
       "      <th></th>\n",
       "      <th>article</th>\n",
       "      <th>unit_price</th>\n",
       "    </tr>\n",
       "  </thead>\n",
       "  <tbody>\n",
       "    <tr>\n",
       "      <th>0</th>\n",
       "      <td>baguette</td>\n",
       "      <td>0.90</td>\n",
       "    </tr>\n",
       "    <tr>\n",
       "      <th>1</th>\n",
       "      <td>pain_au_chocolat</td>\n",
       "      <td>1.20</td>\n",
       "    </tr>\n",
       "    <tr>\n",
       "      <th>2</th>\n",
       "      <td>pain_au_chocolat</td>\n",
       "      <td>1.20</td>\n",
       "    </tr>\n",
       "    <tr>\n",
       "      <th>3</th>\n",
       "      <td>pain</td>\n",
       "      <td>1.15</td>\n",
       "    </tr>\n",
       "    <tr>\n",
       "      <th>4</th>\n",
       "      <td>traditional_baguette</td>\n",
       "      <td>1.20</td>\n",
       "    </tr>\n",
       "    <tr>\n",
       "      <th>...</th>\n",
       "      <td>...</td>\n",
       "      <td>...</td>\n",
       "    </tr>\n",
       "    <tr>\n",
       "      <th>211698</th>\n",
       "      <td>campagne</td>\n",
       "      <td>2.00</td>\n",
       "    </tr>\n",
       "    <tr>\n",
       "      <th>211699</th>\n",
       "      <td>traditional_baguette</td>\n",
       "      <td>1.30</td>\n",
       "    </tr>\n",
       "    <tr>\n",
       "      <th>211700</th>\n",
       "      <td>boule_200g</td>\n",
       "      <td>1.20</td>\n",
       "    </tr>\n",
       "    <tr>\n",
       "      <th>211701</th>\n",
       "      <td>traditional_baguette</td>\n",
       "      <td>1.30</td>\n",
       "    </tr>\n",
       "    <tr>\n",
       "      <th>211702</th>\n",
       "      <td>traditional_baguette</td>\n",
       "      <td>1.30</td>\n",
       "    </tr>\n",
       "  </tbody>\n",
       "</table>\n",
       "<p>208077 rows × 2 columns</p>\n",
       "</div>"
      ],
      "text/plain": [
       "                     article  unit_price\n",
       "0                   baguette        0.90\n",
       "1           pain_au_chocolat        1.20\n",
       "2           pain_au_chocolat        1.20\n",
       "3                       pain        1.15\n",
       "4       traditional_baguette        1.20\n",
       "...                      ...         ...\n",
       "211698              campagne        2.00\n",
       "211699  traditional_baguette        1.30\n",
       "211700            boule_200g        1.20\n",
       "211701  traditional_baguette        1.30\n",
       "211702  traditional_baguette        1.30\n",
       "\n",
       "[208077 rows x 2 columns]"
      ]
     },
     "execution_count": 32,
     "metadata": {},
     "output_type": "execute_result"
    }
   ],
   "source": [
    "bakery_price_table = bakery_data_table[['article','unit_price']]\n",
    "bakery_price_table"
   ]
  },
  {
   "cell_type": "markdown",
   "id": "b8d71d75-b804-450b-8f7a-25d7acd4d1b0",
   "metadata": {},
   "source": [
    "# Dropping Duplicates to standardize prices"
   ]
  },
  {
   "cell_type": "code",
   "execution_count": 33,
   "id": "a9278dbf-f0b8-476f-b404-d507d509c8f0",
   "metadata": {},
   "outputs": [],
   "source": [
    "bakery_price_table = bakery_price_table.drop_duplicates()"
   ]
  },
  {
   "cell_type": "code",
   "execution_count": 34,
   "id": "be203727-ef8a-4a7c-8fc3-840fe6540d21",
   "metadata": {},
   "outputs": [],
   "source": [
    "bakery_price_table = bakery_price_table.reset_index(drop=True)"
   ]
  },
  {
   "cell_type": "code",
   "execution_count": 35,
   "id": "d3510c09-db33-4e1d-ba3a-e0bdd85a78c3",
   "metadata": {},
   "outputs": [],
   "source": [
    "bakery_price_table = bakery_price_table.sort_values(by=['unit_price'], ignore_index=True)\n",
    "bakery_price_table = bakery_price_table.drop_duplicates(subset='article', keep=\"last\").reset_index(drop=True)"
   ]
  },
  {
   "cell_type": "code",
   "execution_count": 36,
   "id": "0afe96e6-27a7-4721-94dc-2135fb74f088",
   "metadata": {},
   "outputs": [
    {
     "data": {
      "text/html": [
       "<div>\n",
       "<style scoped>\n",
       "    .dataframe tbody tr th:only-of-type {\n",
       "        vertical-align: middle;\n",
       "    }\n",
       "\n",
       "    .dataframe tbody tr th {\n",
       "        vertical-align: top;\n",
       "    }\n",
       "\n",
       "    .dataframe thead th {\n",
       "        text-align: right;\n",
       "    }\n",
       "</style>\n",
       "<table border=\"1\" class=\"dataframe\">\n",
       "  <thead>\n",
       "    <tr style=\"text-align: right;\">\n",
       "      <th></th>\n",
       "      <th>article</th>\n",
       "      <th>unit_price</th>\n",
       "    </tr>\n",
       "  </thead>\n",
       "  <tbody>\n",
       "    <tr>\n",
       "      <th>0</th>\n",
       "      <td>sucette</td>\n",
       "      <td>0.3</td>\n",
       "    </tr>\n",
       "    <tr>\n",
       "      <th>1</th>\n",
       "      <td>demi_baguette</td>\n",
       "      <td>0.5</td>\n",
       "    </tr>\n",
       "    <tr>\n",
       "      <th>2</th>\n",
       "      <td>bottereau</td>\n",
       "      <td>0.5</td>\n",
       "    </tr>\n",
       "    <tr>\n",
       "      <th>3</th>\n",
       "      <td>grande_sucette</td>\n",
       "      <td>0.6</td>\n",
       "    </tr>\n",
       "    <tr>\n",
       "      <th>4</th>\n",
       "      <td>pain_noir</td>\n",
       "      <td>0.6</td>\n",
       "    </tr>\n",
       "    <tr>\n",
       "      <th>...</th>\n",
       "      <td>...</td>\n",
       "      <td>...</td>\n",
       "    </tr>\n",
       "    <tr>\n",
       "      <th>118</th>\n",
       "      <td>tarte_fraise_6p</td>\n",
       "      <td>21.0</td>\n",
       "    </tr>\n",
       "    <tr>\n",
       "      <th>119</th>\n",
       "      <td>buche_6pers</td>\n",
       "      <td>21.0</td>\n",
       "    </tr>\n",
       "    <tr>\n",
       "      <th>120</th>\n",
       "      <td>royal_6p</td>\n",
       "      <td>21.0</td>\n",
       "    </tr>\n",
       "    <tr>\n",
       "      <th>121</th>\n",
       "      <td>buche_8pers</td>\n",
       "      <td>28.0</td>\n",
       "    </tr>\n",
       "    <tr>\n",
       "      <th>122</th>\n",
       "      <td>plaque_tarte_25p</td>\n",
       "      <td>35.0</td>\n",
       "    </tr>\n",
       "  </tbody>\n",
       "</table>\n",
       "<p>123 rows × 2 columns</p>\n",
       "</div>"
      ],
      "text/plain": [
       "              article  unit_price\n",
       "0             sucette         0.3\n",
       "1       demi_baguette         0.5\n",
       "2           bottereau         0.5\n",
       "3      grande_sucette         0.6\n",
       "4           pain_noir         0.6\n",
       "..                ...         ...\n",
       "118   tarte_fraise_6p        21.0\n",
       "119       buche_6pers        21.0\n",
       "120          royal_6p        21.0\n",
       "121       buche_8pers        28.0\n",
       "122  plaque_tarte_25p        35.0\n",
       "\n",
       "[123 rows x 2 columns]"
      ]
     },
     "metadata": {},
     "output_type": "display_data"
    },
    {
     "name": "stdout",
     "output_type": "stream",
     "text": [
      "<class 'pandas.core.frame.DataFrame'>\n",
      "RangeIndex: 123 entries, 0 to 122\n",
      "Data columns (total 2 columns):\n",
      " #   Column      Non-Null Count  Dtype  \n",
      "---  ------      --------------  -----  \n",
      " 0   article     123 non-null    object \n",
      " 1   unit_price  123 non-null    float64\n",
      "dtypes: float64(1), object(1)\n",
      "memory usage: 2.0+ KB\n"
     ]
    }
   ],
   "source": [
    "display(bakery_price_table)\n",
    "bakery_price_table.info()"
   ]
  },
  {
   "cell_type": "code",
   "execution_count": 37,
   "id": "dcd2a6d4-2db6-456d-a409-31e44d0ec1d4",
   "metadata": {},
   "outputs": [
    {
     "data": {
      "text/html": [
       "<div>\n",
       "<style scoped>\n",
       "    .dataframe tbody tr th:only-of-type {\n",
       "        vertical-align: middle;\n",
       "    }\n",
       "\n",
       "    .dataframe tbody tr th {\n",
       "        vertical-align: top;\n",
       "    }\n",
       "\n",
       "    .dataframe thead th {\n",
       "        text-align: right;\n",
       "    }\n",
       "</style>\n",
       "<table border=\"1\" class=\"dataframe\">\n",
       "  <thead>\n",
       "    <tr style=\"text-align: right;\">\n",
       "      <th></th>\n",
       "      <th>count</th>\n",
       "      <th>mean</th>\n",
       "      <th>std</th>\n",
       "      <th>min</th>\n",
       "      <th>25%</th>\n",
       "      <th>50%</th>\n",
       "      <th>75%</th>\n",
       "      <th>max</th>\n",
       "    </tr>\n",
       "  </thead>\n",
       "  <tbody>\n",
       "    <tr>\n",
       "      <th>unit_price</th>\n",
       "      <td>123.0</td>\n",
       "      <td>4.6</td>\n",
       "      <td>5.6</td>\n",
       "      <td>0.3</td>\n",
       "      <td>1.6</td>\n",
       "      <td>2.5</td>\n",
       "      <td>5.0</td>\n",
       "      <td>35.0</td>\n",
       "    </tr>\n",
       "  </tbody>\n",
       "</table>\n",
       "</div>"
      ],
      "text/plain": [
       "            count  mean  std  min  25%  50%  75%   max\n",
       "unit_price  123.0   4.6  5.6  0.3  1.6  2.5  5.0  35.0"
      ]
     },
     "execution_count": 37,
     "metadata": {},
     "output_type": "execute_result"
    }
   ],
   "source": [
    "round(bakery_price_table.describe().T, 2)"
   ]
  },
  {
   "cell_type": "markdown",
   "id": "f3c0dc91-fc7b-4811-8913-b9984f944785",
   "metadata": {},
   "source": [
    "# Applying 'unit_price' changes in bakery_price_table to bakery_table and standardize the 'unit_price' values between the two of them"
   ]
  },
  {
   "cell_type": "code",
   "execution_count": 38,
   "id": "44fe7279-d74a-45cf-bf59-b6f1b3afd293",
   "metadata": {},
   "outputs": [
    {
     "data": {
      "text/html": [
       "<div>\n",
       "<style scoped>\n",
       "    .dataframe tbody tr th:only-of-type {\n",
       "        vertical-align: middle;\n",
       "    }\n",
       "\n",
       "    .dataframe tbody tr th {\n",
       "        vertical-align: top;\n",
       "    }\n",
       "\n",
       "    .dataframe thead th {\n",
       "        text-align: right;\n",
       "    }\n",
       "</style>\n",
       "<table border=\"1\" class=\"dataframe\">\n",
       "  <thead>\n",
       "    <tr style=\"text-align: right;\">\n",
       "      <th></th>\n",
       "      <th>ticket_number</th>\n",
       "      <th>date</th>\n",
       "      <th>time</th>\n",
       "      <th>article</th>\n",
       "      <th>quantity</th>\n",
       "      <th>unit_price</th>\n",
       "    </tr>\n",
       "  </thead>\n",
       "  <tbody>\n",
       "    <tr>\n",
       "      <th>0</th>\n",
       "      <td>150040.0</td>\n",
       "      <td>2021-01-02</td>\n",
       "      <td>08:38</td>\n",
       "      <td>baguette</td>\n",
       "      <td>1.0</td>\n",
       "      <td>1.0</td>\n",
       "    </tr>\n",
       "    <tr>\n",
       "      <th>1</th>\n",
       "      <td>150040.0</td>\n",
       "      <td>2021-01-02</td>\n",
       "      <td>08:38</td>\n",
       "      <td>pain_au_chocolat</td>\n",
       "      <td>3.0</td>\n",
       "      <td>1.3</td>\n",
       "    </tr>\n",
       "    <tr>\n",
       "      <th>2</th>\n",
       "      <td>150041.0</td>\n",
       "      <td>2021-01-02</td>\n",
       "      <td>09:14</td>\n",
       "      <td>pain_au_chocolat</td>\n",
       "      <td>2.0</td>\n",
       "      <td>1.3</td>\n",
       "    </tr>\n",
       "    <tr>\n",
       "      <th>3</th>\n",
       "      <td>150041.0</td>\n",
       "      <td>2021-01-02</td>\n",
       "      <td>09:14</td>\n",
       "      <td>pain</td>\n",
       "      <td>1.0</td>\n",
       "      <td>1.3</td>\n",
       "    </tr>\n",
       "    <tr>\n",
       "      <th>4</th>\n",
       "      <td>150042.0</td>\n",
       "      <td>2021-01-02</td>\n",
       "      <td>09:25</td>\n",
       "      <td>traditional_baguette</td>\n",
       "      <td>5.0</td>\n",
       "      <td>1.3</td>\n",
       "    </tr>\n",
       "    <tr>\n",
       "      <th>...</th>\n",
       "      <td>...</td>\n",
       "      <td>...</td>\n",
       "      <td>...</td>\n",
       "      <td>...</td>\n",
       "      <td>...</td>\n",
       "      <td>...</td>\n",
       "    </tr>\n",
       "    <tr>\n",
       "      <th>208072</th>\n",
       "      <td>288911.0</td>\n",
       "      <td>2022-09-30</td>\n",
       "      <td>18:52</td>\n",
       "      <td>campagne</td>\n",
       "      <td>2.0</td>\n",
       "      <td>2.0</td>\n",
       "    </tr>\n",
       "    <tr>\n",
       "      <th>208073</th>\n",
       "      <td>288911.0</td>\n",
       "      <td>2022-09-30</td>\n",
       "      <td>18:52</td>\n",
       "      <td>traditional_baguette</td>\n",
       "      <td>5.0</td>\n",
       "      <td>1.3</td>\n",
       "    </tr>\n",
       "    <tr>\n",
       "      <th>208074</th>\n",
       "      <td>288911.0</td>\n",
       "      <td>2022-09-30</td>\n",
       "      <td>18:52</td>\n",
       "      <td>boule_200g</td>\n",
       "      <td>1.0</td>\n",
       "      <td>1.2</td>\n",
       "    </tr>\n",
       "    <tr>\n",
       "      <th>208075</th>\n",
       "      <td>288912.0</td>\n",
       "      <td>2022-09-30</td>\n",
       "      <td>18:55</td>\n",
       "      <td>traditional_baguette</td>\n",
       "      <td>1.0</td>\n",
       "      <td>1.3</td>\n",
       "    </tr>\n",
       "    <tr>\n",
       "      <th>208076</th>\n",
       "      <td>288913.0</td>\n",
       "      <td>2022-09-30</td>\n",
       "      <td>18:56</td>\n",
       "      <td>traditional_baguette</td>\n",
       "      <td>1.0</td>\n",
       "      <td>1.3</td>\n",
       "    </tr>\n",
       "  </tbody>\n",
       "</table>\n",
       "<p>208077 rows × 6 columns</p>\n",
       "</div>"
      ],
      "text/plain": [
       "        ticket_number        date   time               article  quantity  \\\n",
       "0            150040.0  2021-01-02  08:38              baguette       1.0   \n",
       "1            150040.0  2021-01-02  08:38      pain_au_chocolat       3.0   \n",
       "2            150041.0  2021-01-02  09:14      pain_au_chocolat       2.0   \n",
       "3            150041.0  2021-01-02  09:14                  pain       1.0   \n",
       "4            150042.0  2021-01-02  09:25  traditional_baguette       5.0   \n",
       "...               ...         ...    ...                   ...       ...   \n",
       "208072       288911.0  2022-09-30  18:52              campagne       2.0   \n",
       "208073       288911.0  2022-09-30  18:52  traditional_baguette       5.0   \n",
       "208074       288911.0  2022-09-30  18:52            boule_200g       1.0   \n",
       "208075       288912.0  2022-09-30  18:55  traditional_baguette       1.0   \n",
       "208076       288913.0  2022-09-30  18:56  traditional_baguette       1.0   \n",
       "\n",
       "        unit_price  \n",
       "0              1.0  \n",
       "1              1.3  \n",
       "2              1.3  \n",
       "3              1.3  \n",
       "4              1.3  \n",
       "...            ...  \n",
       "208072         2.0  \n",
       "208073         1.3  \n",
       "208074         1.2  \n",
       "208075         1.3  \n",
       "208076         1.3  \n",
       "\n",
       "[208077 rows x 6 columns]"
      ]
     },
     "metadata": {},
     "output_type": "display_data"
    }
   ],
   "source": [
    "merged_df = bakery_data.merge(bakery_price_table, on='article', how='left')\n",
    "merged_df['unit_price_x'].fillna(merged_df['unit_price_y'], inplace=True)\n",
    "merged_df.drop(['unit_price_x'], axis=1, inplace=True)\n",
    "merged_df.rename(columns={'unit_price_y': 'unit_price'}, inplace=True)\n",
    "\n",
    "display(merged_df)"
   ]
  },
  {
   "cell_type": "code",
   "execution_count": 39,
   "id": "b5d0bbb2-b517-46b4-b142-ce893fca4930",
   "metadata": {},
   "outputs": [],
   "source": [
    "bakery_data = merged_df"
   ]
  },
  {
   "cell_type": "markdown",
   "id": "432b05bb-60c9-42c0-bdd0-b61f45580009",
   "metadata": {},
   "source": [
    "# Creating a new column for the final value ('article_total') of 'unit_price' multiplied by 'quantity'"
   ]
  },
  {
   "cell_type": "code",
   "execution_count": 40,
   "id": "9f78d68c-551b-461f-9e6f-08a303ff49ee",
   "metadata": {},
   "outputs": [],
   "source": [
    "bakery_data['article_total'] = bakery_data['unit_price'] * bakery_data['quantity'] "
   ]
  },
  {
   "cell_type": "markdown",
   "id": "7a2850b6-a081-42b6-8535-fe9182e75fe7",
   "metadata": {},
   "source": [
    "### Checking new column 'article_total' and the changes to bakery_data"
   ]
  },
  {
   "cell_type": "code",
   "execution_count": 41,
   "id": "b0156142-7fb4-4353-8dec-7d14fa107a28",
   "metadata": {},
   "outputs": [
    {
     "data": {
      "text/html": [
       "<div>\n",
       "<style scoped>\n",
       "    .dataframe tbody tr th:only-of-type {\n",
       "        vertical-align: middle;\n",
       "    }\n",
       "\n",
       "    .dataframe tbody tr th {\n",
       "        vertical-align: top;\n",
       "    }\n",
       "\n",
       "    .dataframe thead th {\n",
       "        text-align: right;\n",
       "    }\n",
       "</style>\n",
       "<table border=\"1\" class=\"dataframe\">\n",
       "  <thead>\n",
       "    <tr style=\"text-align: right;\">\n",
       "      <th></th>\n",
       "      <th>ticket_number</th>\n",
       "      <th>date</th>\n",
       "      <th>time</th>\n",
       "      <th>article</th>\n",
       "      <th>quantity</th>\n",
       "      <th>unit_price</th>\n",
       "      <th>article_total</th>\n",
       "    </tr>\n",
       "  </thead>\n",
       "  <tbody>\n",
       "    <tr>\n",
       "      <th>0</th>\n",
       "      <td>150040.0</td>\n",
       "      <td>2021-01-02</td>\n",
       "      <td>08:38</td>\n",
       "      <td>baguette</td>\n",
       "      <td>1.0</td>\n",
       "      <td>1.0</td>\n",
       "      <td>1.0</td>\n",
       "    </tr>\n",
       "    <tr>\n",
       "      <th>1</th>\n",
       "      <td>150040.0</td>\n",
       "      <td>2021-01-02</td>\n",
       "      <td>08:38</td>\n",
       "      <td>pain_au_chocolat</td>\n",
       "      <td>3.0</td>\n",
       "      <td>1.3</td>\n",
       "      <td>3.9</td>\n",
       "    </tr>\n",
       "    <tr>\n",
       "      <th>2</th>\n",
       "      <td>150041.0</td>\n",
       "      <td>2021-01-02</td>\n",
       "      <td>09:14</td>\n",
       "      <td>pain_au_chocolat</td>\n",
       "      <td>2.0</td>\n",
       "      <td>1.3</td>\n",
       "      <td>2.6</td>\n",
       "    </tr>\n",
       "    <tr>\n",
       "      <th>3</th>\n",
       "      <td>150041.0</td>\n",
       "      <td>2021-01-02</td>\n",
       "      <td>09:14</td>\n",
       "      <td>pain</td>\n",
       "      <td>1.0</td>\n",
       "      <td>1.3</td>\n",
       "      <td>1.3</td>\n",
       "    </tr>\n",
       "    <tr>\n",
       "      <th>4</th>\n",
       "      <td>150042.0</td>\n",
       "      <td>2021-01-02</td>\n",
       "      <td>09:25</td>\n",
       "      <td>traditional_baguette</td>\n",
       "      <td>5.0</td>\n",
       "      <td>1.3</td>\n",
       "      <td>6.5</td>\n",
       "    </tr>\n",
       "    <tr>\n",
       "      <th>...</th>\n",
       "      <td>...</td>\n",
       "      <td>...</td>\n",
       "      <td>...</td>\n",
       "      <td>...</td>\n",
       "      <td>...</td>\n",
       "      <td>...</td>\n",
       "      <td>...</td>\n",
       "    </tr>\n",
       "    <tr>\n",
       "      <th>208072</th>\n",
       "      <td>288911.0</td>\n",
       "      <td>2022-09-30</td>\n",
       "      <td>18:52</td>\n",
       "      <td>campagne</td>\n",
       "      <td>2.0</td>\n",
       "      <td>2.0</td>\n",
       "      <td>4.0</td>\n",
       "    </tr>\n",
       "    <tr>\n",
       "      <th>208073</th>\n",
       "      <td>288911.0</td>\n",
       "      <td>2022-09-30</td>\n",
       "      <td>18:52</td>\n",
       "      <td>traditional_baguette</td>\n",
       "      <td>5.0</td>\n",
       "      <td>1.3</td>\n",
       "      <td>6.5</td>\n",
       "    </tr>\n",
       "    <tr>\n",
       "      <th>208074</th>\n",
       "      <td>288911.0</td>\n",
       "      <td>2022-09-30</td>\n",
       "      <td>18:52</td>\n",
       "      <td>boule_200g</td>\n",
       "      <td>1.0</td>\n",
       "      <td>1.2</td>\n",
       "      <td>1.2</td>\n",
       "    </tr>\n",
       "    <tr>\n",
       "      <th>208075</th>\n",
       "      <td>288912.0</td>\n",
       "      <td>2022-09-30</td>\n",
       "      <td>18:55</td>\n",
       "      <td>traditional_baguette</td>\n",
       "      <td>1.0</td>\n",
       "      <td>1.3</td>\n",
       "      <td>1.3</td>\n",
       "    </tr>\n",
       "    <tr>\n",
       "      <th>208076</th>\n",
       "      <td>288913.0</td>\n",
       "      <td>2022-09-30</td>\n",
       "      <td>18:56</td>\n",
       "      <td>traditional_baguette</td>\n",
       "      <td>1.0</td>\n",
       "      <td>1.3</td>\n",
       "      <td>1.3</td>\n",
       "    </tr>\n",
       "  </tbody>\n",
       "</table>\n",
       "<p>208077 rows × 7 columns</p>\n",
       "</div>"
      ],
      "text/plain": [
       "        ticket_number        date   time               article  quantity  \\\n",
       "0            150040.0  2021-01-02  08:38              baguette       1.0   \n",
       "1            150040.0  2021-01-02  08:38      pain_au_chocolat       3.0   \n",
       "2            150041.0  2021-01-02  09:14      pain_au_chocolat       2.0   \n",
       "3            150041.0  2021-01-02  09:14                  pain       1.0   \n",
       "4            150042.0  2021-01-02  09:25  traditional_baguette       5.0   \n",
       "...               ...         ...    ...                   ...       ...   \n",
       "208072       288911.0  2022-09-30  18:52              campagne       2.0   \n",
       "208073       288911.0  2022-09-30  18:52  traditional_baguette       5.0   \n",
       "208074       288911.0  2022-09-30  18:52            boule_200g       1.0   \n",
       "208075       288912.0  2022-09-30  18:55  traditional_baguette       1.0   \n",
       "208076       288913.0  2022-09-30  18:56  traditional_baguette       1.0   \n",
       "\n",
       "        unit_price  article_total  \n",
       "0              1.0            1.0  \n",
       "1              1.3            3.9  \n",
       "2              1.3            2.6  \n",
       "3              1.3            1.3  \n",
       "4              1.3            6.5  \n",
       "...            ...            ...  \n",
       "208072         2.0            4.0  \n",
       "208073         1.3            6.5  \n",
       "208074         1.2            1.2  \n",
       "208075         1.3            1.3  \n",
       "208076         1.3            1.3  \n",
       "\n",
       "[208077 rows x 7 columns]"
      ]
     },
     "metadata": {},
     "output_type": "display_data"
    },
    {
     "name": "stdout",
     "output_type": "stream",
     "text": [
      "<class 'pandas.core.frame.DataFrame'>\n",
      "RangeIndex: 208077 entries, 0 to 208076\n",
      "Data columns (total 7 columns):\n",
      " #   Column         Non-Null Count   Dtype  \n",
      "---  ------         --------------   -----  \n",
      " 0   ticket_number  208077 non-null  float64\n",
      " 1   date           208077 non-null  object \n",
      " 2   time           208077 non-null  object \n",
      " 3   article        208077 non-null  object \n",
      " 4   quantity       208077 non-null  float64\n",
      " 5   unit_price     208077 non-null  float64\n",
      " 6   article_total  208077 non-null  float64\n",
      "dtypes: float64(4), object(3)\n",
      "memory usage: 11.1+ MB\n"
     ]
    },
    {
     "data": {
      "text/html": [
       "<div>\n",
       "<style scoped>\n",
       "    .dataframe tbody tr th:only-of-type {\n",
       "        vertical-align: middle;\n",
       "    }\n",
       "\n",
       "    .dataframe tbody tr th {\n",
       "        vertical-align: top;\n",
       "    }\n",
       "\n",
       "    .dataframe thead th {\n",
       "        text-align: right;\n",
       "    }\n",
       "</style>\n",
       "<table border=\"1\" class=\"dataframe\">\n",
       "  <thead>\n",
       "    <tr style=\"text-align: right;\">\n",
       "      <th></th>\n",
       "      <th>count</th>\n",
       "      <th>mean</th>\n",
       "      <th>std</th>\n",
       "      <th>min</th>\n",
       "      <th>25%</th>\n",
       "      <th>50%</th>\n",
       "      <th>75%</th>\n",
       "      <th>max</th>\n",
       "    </tr>\n",
       "  </thead>\n",
       "  <tbody>\n",
       "    <tr>\n",
       "      <th>ticket_number</th>\n",
       "      <td>208077.0</td>\n",
       "      <td>219268.35</td>\n",
       "      <td>40107.86</td>\n",
       "      <td>150040.0</td>\n",
       "      <td>184688.0</td>\n",
       "      <td>218572.0</td>\n",
       "      <td>254255.0</td>\n",
       "      <td>288913.0</td>\n",
       "    </tr>\n",
       "    <tr>\n",
       "      <th>quantity</th>\n",
       "      <td>208077.0</td>\n",
       "      <td>1.60</td>\n",
       "      <td>1.24</td>\n",
       "      <td>1.0</td>\n",
       "      <td>1.0</td>\n",
       "      <td>1.0</td>\n",
       "      <td>2.0</td>\n",
       "      <td>200.0</td>\n",
       "    </tr>\n",
       "    <tr>\n",
       "      <th>unit_price</th>\n",
       "      <td>208077.0</td>\n",
       "      <td>1.84</td>\n",
       "      <td>1.66</td>\n",
       "      <td>0.3</td>\n",
       "      <td>1.2</td>\n",
       "      <td>1.3</td>\n",
       "      <td>1.7</td>\n",
       "      <td>35.0</td>\n",
       "    </tr>\n",
       "    <tr>\n",
       "      <th>article_total</th>\n",
       "      <td>208077.0</td>\n",
       "      <td>2.73</td>\n",
       "      <td>2.63</td>\n",
       "      <td>0.3</td>\n",
       "      <td>1.3</td>\n",
       "      <td>2.0</td>\n",
       "      <td>2.7</td>\n",
       "      <td>200.0</td>\n",
       "    </tr>\n",
       "  </tbody>\n",
       "</table>\n",
       "</div>"
      ],
      "text/plain": [
       "                  count       mean       std       min       25%       50%  \\\n",
       "ticket_number  208077.0  219268.35  40107.86  150040.0  184688.0  218572.0   \n",
       "quantity       208077.0       1.60      1.24       1.0       1.0       1.0   \n",
       "unit_price     208077.0       1.84      1.66       0.3       1.2       1.3   \n",
       "article_total  208077.0       2.73      2.63       0.3       1.3       2.0   \n",
       "\n",
       "                    75%       max  \n",
       "ticket_number  254255.0  288913.0  \n",
       "quantity            2.0     200.0  \n",
       "unit_price          1.7      35.0  \n",
       "article_total       2.7     200.0  "
      ]
     },
     "execution_count": 41,
     "metadata": {},
     "output_type": "execute_result"
    }
   ],
   "source": [
    "display(bakery_data)\n",
    "bakery_data.info()\n",
    "round(bakery_data.describe().T, 2)"
   ]
  },
  {
   "cell_type": "code",
   "execution_count": 42,
   "id": "942757e9-6a96-4260-a305-f1553168a147",
   "metadata": {},
   "outputs": [
    {
     "data": {
      "text/html": [
       "<div>\n",
       "<style scoped>\n",
       "    .dataframe tbody tr th:only-of-type {\n",
       "        vertical-align: middle;\n",
       "    }\n",
       "\n",
       "    .dataframe tbody tr th {\n",
       "        vertical-align: top;\n",
       "    }\n",
       "\n",
       "    .dataframe thead th {\n",
       "        text-align: right;\n",
       "    }\n",
       "</style>\n",
       "<table border=\"1\" class=\"dataframe\">\n",
       "  <thead>\n",
       "    <tr style=\"text-align: right;\">\n",
       "      <th></th>\n",
       "      <th>count</th>\n",
       "      <th>unique</th>\n",
       "      <th>top</th>\n",
       "      <th>freq</th>\n",
       "    </tr>\n",
       "  </thead>\n",
       "  <tbody>\n",
       "    <tr>\n",
       "      <th>date</th>\n",
       "      <td>208077</td>\n",
       "      <td>600</td>\n",
       "      <td>2022-08-14</td>\n",
       "      <td>919</td>\n",
       "    </tr>\n",
       "    <tr>\n",
       "      <th>time</th>\n",
       "      <td>208077</td>\n",
       "      <td>683</td>\n",
       "      <td>12:11</td>\n",
       "      <td>770</td>\n",
       "    </tr>\n",
       "    <tr>\n",
       "      <th>article</th>\n",
       "      <td>208077</td>\n",
       "      <td>123</td>\n",
       "      <td>traditional_baguette</td>\n",
       "      <td>67349</td>\n",
       "    </tr>\n",
       "  </tbody>\n",
       "</table>\n",
       "</div>"
      ],
      "text/plain": [
       "          count unique                   top   freq\n",
       "date     208077    600            2022-08-14    919\n",
       "time     208077    683                 12:11    770\n",
       "article  208077    123  traditional_baguette  67349"
      ]
     },
     "execution_count": 42,
     "metadata": {},
     "output_type": "execute_result"
    }
   ],
   "source": [
    "bakery_data.describe(include=object).T"
   ]
  },
  {
   "cell_type": "markdown",
   "id": "ce485582-cd64-4839-80cb-2cd7a6cd9b3b",
   "metadata": {},
   "source": [
    "# Creating new DataFrame with ticket_number and total_ticket, which will be the values of 'article_total' aggregated (with sum) by 'ticket_number'"
   ]
  },
  {
   "cell_type": "code",
   "execution_count": 43,
   "id": "acbfeef4-9bde-4d98-8be1-15bde9ca3ae1",
   "metadata": {},
   "outputs": [],
   "source": [
    "tickets_total = bakery_data.groupby(by='ticket_number')['article_total'].sum()\n",
    "tickets_total.columns = ['ticket_number', 'total_ticket']"
   ]
  },
  {
   "cell_type": "code",
   "execution_count": 44,
   "id": "df97eb83-cecd-49c0-8ac3-16f20d2bcaac",
   "metadata": {},
   "outputs": [
    {
     "data": {
      "text/plain": [
       "ticket_number\n",
       "150040.0     4.90\n",
       "150041.0     3.90\n",
       "150042.0     6.50\n",
       "150043.0     5.60\n",
       "150044.0     1.15\n",
       "            ...  \n",
       "288908.0     2.70\n",
       "288910.0     1.30\n",
       "288911.0    11.70\n",
       "288912.0     1.30\n",
       "288913.0     1.30\n",
       "Name: article_total, Length: 134886, dtype: float64"
      ]
     },
     "metadata": {},
     "output_type": "display_data"
    }
   ],
   "source": [
    "display(tickets_total)"
   ]
  },
  {
   "cell_type": "code",
   "execution_count": 45,
   "id": "4f678d2f-c772-47d4-9a21-7adf50b1a51d",
   "metadata": {},
   "outputs": [
    {
     "name": "stdout",
     "output_type": "stream",
     "text": [
      "<class 'pandas.core.series.Series'>\n",
      "Index: 134886 entries, 150040.0 to 288913.0\n",
      "Series name: article_total\n",
      "Non-Null Count   Dtype  \n",
      "--------------   -----  \n",
      "134886 non-null  float64\n",
      "dtypes: float64(1)\n",
      "memory usage: 2.1 MB\n"
     ]
    }
   ],
   "source": [
    "tickets_total.info()"
   ]
  },
  {
   "cell_type": "code",
   "execution_count": 46,
   "id": "3bd5fecb-195e-490e-9978-1bfea86a68f1",
   "metadata": {},
   "outputs": [],
   "source": [
    "tickets_total = tickets_total.to_frame(name=\"total_ticket\")"
   ]
  },
  {
   "cell_type": "code",
   "execution_count": 47,
   "id": "eab42c89-15a9-4766-a673-2cc0d3f9885e",
   "metadata": {},
   "outputs": [
    {
     "data": {
      "text/html": [
       "<div>\n",
       "<style scoped>\n",
       "    .dataframe tbody tr th:only-of-type {\n",
       "        vertical-align: middle;\n",
       "    }\n",
       "\n",
       "    .dataframe tbody tr th {\n",
       "        vertical-align: top;\n",
       "    }\n",
       "\n",
       "    .dataframe thead th {\n",
       "        text-align: right;\n",
       "    }\n",
       "</style>\n",
       "<table border=\"1\" class=\"dataframe\">\n",
       "  <thead>\n",
       "    <tr style=\"text-align: right;\">\n",
       "      <th></th>\n",
       "      <th>total_ticket</th>\n",
       "    </tr>\n",
       "    <tr>\n",
       "      <th>ticket_number</th>\n",
       "      <th></th>\n",
       "    </tr>\n",
       "  </thead>\n",
       "  <tbody>\n",
       "    <tr>\n",
       "      <th>150040.0</th>\n",
       "      <td>4.90</td>\n",
       "    </tr>\n",
       "    <tr>\n",
       "      <th>150041.0</th>\n",
       "      <td>3.90</td>\n",
       "    </tr>\n",
       "    <tr>\n",
       "      <th>150042.0</th>\n",
       "      <td>6.50</td>\n",
       "    </tr>\n",
       "    <tr>\n",
       "      <th>150043.0</th>\n",
       "      <td>5.60</td>\n",
       "    </tr>\n",
       "    <tr>\n",
       "      <th>150044.0</th>\n",
       "      <td>1.15</td>\n",
       "    </tr>\n",
       "    <tr>\n",
       "      <th>...</th>\n",
       "      <td>...</td>\n",
       "    </tr>\n",
       "    <tr>\n",
       "      <th>288908.0</th>\n",
       "      <td>2.70</td>\n",
       "    </tr>\n",
       "    <tr>\n",
       "      <th>288910.0</th>\n",
       "      <td>1.30</td>\n",
       "    </tr>\n",
       "    <tr>\n",
       "      <th>288911.0</th>\n",
       "      <td>11.70</td>\n",
       "    </tr>\n",
       "    <tr>\n",
       "      <th>288912.0</th>\n",
       "      <td>1.30</td>\n",
       "    </tr>\n",
       "    <tr>\n",
       "      <th>288913.0</th>\n",
       "      <td>1.30</td>\n",
       "    </tr>\n",
       "  </tbody>\n",
       "</table>\n",
       "<p>134886 rows × 1 columns</p>\n",
       "</div>"
      ],
      "text/plain": [
       "               total_ticket\n",
       "ticket_number              \n",
       "150040.0               4.90\n",
       "150041.0               3.90\n",
       "150042.0               6.50\n",
       "150043.0               5.60\n",
       "150044.0               1.15\n",
       "...                     ...\n",
       "288908.0               2.70\n",
       "288910.0               1.30\n",
       "288911.0              11.70\n",
       "288912.0               1.30\n",
       "288913.0               1.30\n",
       "\n",
       "[134886 rows x 1 columns]"
      ]
     },
     "metadata": {},
     "output_type": "display_data"
    }
   ],
   "source": [
    "display(tickets_total)"
   ]
  },
  {
   "cell_type": "code",
   "execution_count": 48,
   "id": "d5f51c4c-5415-4f74-965e-794b21229eac",
   "metadata": {},
   "outputs": [
    {
     "name": "stdout",
     "output_type": "stream",
     "text": [
      "<class 'pandas.core.frame.DataFrame'>\n",
      "Index: 134886 entries, 150040.0 to 288913.0\n",
      "Data columns (total 1 columns):\n",
      " #   Column        Non-Null Count   Dtype  \n",
      "---  ------        --------------   -----  \n",
      " 0   total_ticket  134886 non-null  float64\n",
      "dtypes: float64(1)\n",
      "memory usage: 2.1 MB\n"
     ]
    },
    {
     "data": {
      "text/html": [
       "<div>\n",
       "<style scoped>\n",
       "    .dataframe tbody tr th:only-of-type {\n",
       "        vertical-align: middle;\n",
       "    }\n",
       "\n",
       "    .dataframe tbody tr th {\n",
       "        vertical-align: top;\n",
       "    }\n",
       "\n",
       "    .dataframe thead th {\n",
       "        text-align: right;\n",
       "    }\n",
       "</style>\n",
       "<table border=\"1\" class=\"dataframe\">\n",
       "  <thead>\n",
       "    <tr style=\"text-align: right;\">\n",
       "      <th></th>\n",
       "      <th>count</th>\n",
       "      <th>mean</th>\n",
       "      <th>std</th>\n",
       "      <th>min</th>\n",
       "      <th>25%</th>\n",
       "      <th>50%</th>\n",
       "      <th>75%</th>\n",
       "      <th>max</th>\n",
       "    </tr>\n",
       "  </thead>\n",
       "  <tbody>\n",
       "    <tr>\n",
       "      <th>total_ticket</th>\n",
       "      <td>134886.0</td>\n",
       "      <td>4.2</td>\n",
       "      <td>4.45</td>\n",
       "      <td>0.3</td>\n",
       "      <td>1.3</td>\n",
       "      <td>2.6</td>\n",
       "      <td>5.2</td>\n",
       "      <td>247.1</td>\n",
       "    </tr>\n",
       "  </tbody>\n",
       "</table>\n",
       "</div>"
      ],
      "text/plain": [
       "                 count  mean   std  min  25%  50%  75%    max\n",
       "total_ticket  134886.0   4.2  4.45  0.3  1.3  2.6  5.2  247.1"
      ]
     },
     "execution_count": 48,
     "metadata": {},
     "output_type": "execute_result"
    }
   ],
   "source": [
    "tickets_total.info()\n",
    "round(tickets_total.describe().T, 2)"
   ]
  },
  {
   "cell_type": "markdown",
   "id": "ed6f2695-0e82-4613-b17a-4366dc015742",
   "metadata": {},
   "source": [
    "# Saving clean and formatted DataFrames in .csv files to work with later"
   ]
  },
  {
   "cell_type": "code",
   "execution_count": 49,
   "id": "3dd4165d-b04f-491a-84c3-5cd0d0b5c447",
   "metadata": {},
   "outputs": [],
   "source": [
    "bakery_data.to_csv(config['data']['output']['bakery_data'])\n",
    "tickets_total.to_csv(config['data']['output']['tickets_total'])\n",
    "bakery_price_table.to_csv(config['data']['output']['bakery_price'])"
   ]
  },
  {
   "cell_type": "markdown",
   "id": "293d7bbf-792b-44de-b2f2-baa6c8c1a2b5",
   "metadata": {},
   "source": [
    "# Creating Main Function with the functions used to clean and format the original DataFrame and saving it in function.py file and moving file to src folder"
   ]
  },
  {
   "cell_type": "code",
   "execution_count": 50,
   "id": "7d6e3c03-92f2-4474-9d29-35483f68bffc",
   "metadata": {},
   "outputs": [
    {
     "name": "stdout",
     "output_type": "stream",
     "text": [
      "Writing clean_format_functions.py\n"
     ]
    }
   ],
   "source": [
    "%%writefile clean_format_functions.py\n",
    "\n",
    "def format_dataframe(df: pd.DataFrame, column_name: str) -> pd.DataFrame:\n",
    "    \"\"\"\n",
    "    Creates a Copy of the Original DataFrame. Formats the DataFrame column names to lowercase and formats the specified column values to lowercase\n",
    "    with underscores instead of spaces.\n",
    "\n",
    "    Args:\n",
    "        df (pd.DataFrame): The input DataFrame.\n",
    "        column_name: The column to alter\n",
    "    Returns:\n",
    "        df (pd.DataFrame): The modified DataFrame with lowercase column names and formatted 'Item' values.\n",
    "    \"\"\"\n",
    "\n",
    "    # Rename columns to lowercase\n",
    "    df.columns = df.columns.str.lower()\n",
    "\n",
    "    # Format column values to lowercase with underscores\n",
    "    df[column_name] = df[column_name].str.lower().str.replace(' ', '_')\n",
    "\n",
    "    return df\n",
    "\n",
    "def move_column_to_beginning(df: pd.DataFrame, column_name: str) -> pd.DataFrame:\n",
    "    \"\"\"\n",
    "    Moves a given column to the beginning of a DataFrame.\n",
    "\n",
    "    Args:\n",
    "        - df (pd.DataFrame): The DataFrame to modify.\n",
    "        - column_name (str): The name of the column to move.\n",
    "\n",
    "    Returns:\n",
    "        df (pd.DataFrame): The modified DataFrame with the specified column moved to the beginning.\n",
    "    \"\"\"\n",
    "    # Identify the column name and store it in a variable\n",
    "    column_to_move = df[column_name]\n",
    "    \n",
    "    # Drop the column\n",
    "    df = df.drop(column_name, axis=1)\n",
    "    \n",
    "    # Insert the column in the beginning as index 0 and axis 1\n",
    "    df.insert(0, column_name, column_to_move)\n",
    "    \n",
    "    return df\n",
    "\n",
    "def drop_values_from_column(df: pd.DataFrame, column: str, values: list) -> pd.DataFrame:\n",
    "    \"\"\"\n",
    "    Drops specified values from a given column in the DataFrame.\n",
    "\n",
    "    Args:\n",
    "        df (pd.DataFrame): The input DataFrame.\n",
    "        column (str): The name of the column from which values need to be dropped.\n",
    "        values (list): A list of values to be dropped from the column.\n",
    "\n",
    "    Returns:\n",
    "        df (pd.DataFrame): The modified DataFrame with dropped values from the specified column.\n",
    "    \"\"\"\n",
    "\n",
    "    # Drop rows containing specified values from the column\n",
    "    df = df[df[column].isin(values) == False].reset_index(drop=True)\n",
    "\n",
    "    return df\n",
    "\n",
    "def convert_column_to_float(df: pd.DataFrame, column_name: str, symbol_to_remove: str) -> pd.DataFrame:\n",
    "    \"\"\"\n",
    "    Convert a column in a DataFrame from object to float64 type,\n",
    "    remove a specified symbol, and substitute ',' with '.' in its values.\n",
    "    \n",
    "    Args:\n",
    "        df (pd.DataFrame): The DataFrame containing the column.\n",
    "        column_name (str): The name of the column to convert.\n",
    "        symbol_to_remove (str): The symbol to remove from the column values.\n",
    "    \n",
    "    Returns:\n",
    "        df (pd.DataFrame): The modified DataFrame with the specified column converted to float64 type,\n",
    "                      the symbol removed from its values, and ',' substituted with '.'.\n",
    "    \"\"\"\n",
    "    \n",
    "    # Remove specified symbol from the column values in the copied DataFrame\n",
    "    df[column_name] = df[column_name].str.replace(symbol_to_remove, '')\n",
    "    \n",
    "    # Substitute ',' with '.' in the column values in the copied DataFrame\n",
    "    df[column_name] = df[column_name].str.replace(',', '.')\n",
    "    \n",
    "    # Convert the copied column to float64 type in the copied DataFrame\n",
    "    df[column_name] = df[column_name].astype('float64')\n",
    "    \n",
    "    return df\n"
   ]
  },
  {
   "cell_type": "code",
   "execution_count": 51,
   "id": "47cfe57d-3f88-4547-b943-b8ec976c78e7",
   "metadata": {},
   "outputs": [
    {
     "name": "stdout",
     "output_type": "stream",
     "text": [
      "        1 file(s) moved.\n"
     ]
    }
   ],
   "source": [
    "!move = {config['functions']['source_path']} {config['functions']['destination_path']}"
   ]
  }
 ],
 "metadata": {
  "kernelspec": {
   "display_name": "midcamp_env",
   "language": "python",
   "name": "midcamp_env"
  },
  "language_info": {
   "codemirror_mode": {
    "name": "ipython",
    "version": 3
   },
   "file_extension": ".py",
   "mimetype": "text/x-python",
   "name": "python",
   "nbconvert_exporter": "python",
   "pygments_lexer": "ipython3",
   "version": "3.10.9"
  },
  "toc-autonumbering": true,
  "toc-showcode": false
 },
 "nbformat": 4,
 "nbformat_minor": 5
}
