{
 "cells": [
  {
   "cell_type": "code",
   "execution_count": null,
   "id": "d8f1c7a6-b39c-4882-a0b6-177075d7eea6",
   "metadata": {},
   "outputs": [],
   "source": [
    "import pandas as pd\n",
    "import numpy as np"
   ]
  },
  {
   "cell_type": "code",
   "execution_count": null,
   "id": "e83829c7-713b-496c-bee3-cb0009617f75",
   "metadata": {},
   "outputs": [],
   "source": [
    "bakery_data = pd.read_csv('../data/raw_data/french_bakery_sales.csv')\n",
    "display(bakery_data)"
   ]
  },
  {
   "cell_type": "code",
   "execution_count": null,
   "id": "d3eb9dad-ff2e-45e5-b7d4-c1ee06cfa2c0",
   "metadata": {},
   "outputs": [],
   "source": [
    "def format_dataframe(df: pd.DataFrame) -> pd.DataFrame:\n",
    "    \"\"\"\n",
    "    Creates a Copy of the Original DataFrame. Formats the DataFrame column names to lowercase and formats the 'article' column values to lowercase\n",
    "    with underscores instead of spaces.\n",
    "\n",
    "    Args:\n",
    "        df (pd.DataFrame): The input DataFrame.\n",
    "\n",
    "    Returns:\n",
    "        pd.DataFrame: The modified DataFrame with lowercase column names and formatted 'Item' values.\n",
    "    \"\"\"\n",
    "    \n",
    "    # Create a copy of the original DataFrame\n",
    "    formatted_df = df.copy()\n",
    "\n",
    "    # Rename columns to lowercase\n",
    "    formatted_df.columns = formatted_df.columns.str.lower()\n",
    "\n",
    "    # Format 'article' column values to lowercase with underscores\n",
    "    formatted_df['article'] = formatted_df['article'].str.lower().str.replace(' ', '_')\n",
    "\n",
    "    return formatted_df"
   ]
  },
  {
   "cell_type": "code",
   "execution_count": null,
   "id": "81412d1b-a0e9-4667-8ad9-39212f9025cf",
   "metadata": {},
   "outputs": [],
   "source": [
    "format_dataframe(bakery_data)"
   ]
  },
  {
   "cell_type": "code",
   "execution_count": null,
   "id": "9c39410a-78c9-45f3-b7b9-4c7f1f72e547",
   "metadata": {},
   "outputs": [],
   "source": [
    "bakery_data = format_dataframe(bakery_data)\n",
    "bakery_data.drop('unnamed: 0', axis=1, inplace=True)\n",
    "bakery_data"
   ]
  },
  {
   "cell_type": "code",
   "execution_count": null,
   "id": "a48dc557-2cc6-4752-b833-e90e85809c65",
   "metadata": {},
   "outputs": [],
   "source": [
    "bakery_data['article'].unique()"
   ]
  },
  {
   "cell_type": "code",
   "execution_count": null,
   "id": "32b9e4f1-cd45-4219-b9f4-66c837297809",
   "metadata": {},
   "outputs": [],
   "source": [
    "def drop_values_from_column(df: pd.DataFrame, column: str, values: list) -> pd.DataFrame:\n",
    "    \"\"\"\n",
    "    Drops specified values from a given column in the DataFrame.\n",
    "\n",
    "    Args:\n",
    "        df (pd.DataFrame): The input DataFrame.\n",
    "        column (str): The name of the column from which values need to be dropped.\n",
    "        values (list): A list of values to be dropped from the column.\n",
    "\n",
    "    Returns:\n",
    "        pd.DataFrame: The modified DataFrame with dropped values from the specified column.\n",
    "    \"\"\"\n",
    "    # Create a copy of the original DataFrame\n",
    "    modified_df = df.copy()\n",
    "\n",
    "    # Drop rows containing specified values from the column\n",
    "    modified_df = modified_df[modified_df[column].isin(values) == False].reset_index(drop=True)\n",
    "\n",
    "    return modified_df"
   ]
  },
  {
   "cell_type": "code",
   "execution_count": null,
   "id": "38214b67-d353-4aaf-9a31-a2c34504fa1d",
   "metadata": {},
   "outputs": [],
   "source": [
    "values_to_drop = ['coupe', 'traiteur', 'the', 'plat_6.50e', 'plat_7.60e', 'plat_7.00',\n",
    "       'plat', 'plat_8.30e', 'formule_pate', 'pt_plateau_sale', 'reduction_sucrees_12', '.', 'platprepare6,50', 'platprepare5,50', 'platprepare7,00',\n",
    "       'formule_plat_prepare', 'platprepare6,00', 'article_295', 'reduction_sucrees_24', 'gd_plateau_sale' ]"
   ]
  },
  {
   "cell_type": "code",
   "execution_count": null,
   "id": "9f027868-28b2-4226-a074-ba9f542df9c0",
   "metadata": {},
   "outputs": [],
   "source": [
    "modified_bakery_data = drop_values_from_column(bakery_data, 'article', values_to_drop)\n",
    "\n",
    "display(modified_bakery_data)"
   ]
  },
  {
   "cell_type": "code",
   "execution_count": null,
   "id": "d2196b01-d113-45ff-9ffb-8d2e1d962b38",
   "metadata": {},
   "outputs": [],
   "source": [
    "bakery_data = modified_bakery_data"
   ]
  },
  {
   "cell_type": "code",
   "execution_count": null,
   "id": "5d7198c8-25b0-4962-92c9-c89d9cc67790",
   "metadata": {},
   "outputs": [],
   "source": [
    "bakery_data.info()"
   ]
  },
  {
   "cell_type": "code",
   "execution_count": null,
   "id": "7b15f9ce-adb6-48eb-83d4-ddb37b8681f5",
   "metadata": {},
   "outputs": [],
   "source": [
    "#drop rows with string 'divers' included in any column\n",
    "\n",
    "bakery_data = bakery_data[~bakery_data.article.str.contains(\"divers\")]"
   ]
  },
  {
   "cell_type": "code",
   "execution_count": null,
   "id": "fb7fb012-4ccd-4142-be25-076cd629302e",
   "metadata": {},
   "outputs": [],
   "source": [
    "#checking if the rows were dropped\n",
    "\n",
    "bakery_data['article'].unique()"
   ]
  },
  {
   "cell_type": "code",
   "execution_count": null,
   "id": "5409740b-e5d9-438f-8c5e-6609f55243d4",
   "metadata": {},
   "outputs": [],
   "source": [
    "bakery_data.info()"
   ]
  },
  {
   "cell_type": "code",
   "execution_count": null,
   "id": "c14c0436-4f78-4f5c-9d19-d6c710a78957",
   "metadata": {},
   "outputs": [],
   "source": [
    "def move_column_to_beginning(dataframe, column_name):\n",
    "    \"\"\"\n",
    "    Moves a given column to the beginning of a DataFrame.\n",
    "\n",
    "    Parameters:\n",
    "        - dataframe (pandas.DataFrame): The DataFrame to modify.\n",
    "        - column_name (str): The name of the column to move.\n",
    "\n",
    "    Returns:\n",
    "        pandas.DataFrame: The modified DataFrame with the specified column moved to the beginning.\n",
    "    \"\"\"\n",
    "    # Identify the column name and store it in a variable\n",
    "    column_to_move = dataframe[column_name]\n",
    "    \n",
    "    # Drop the column\n",
    "    dataframe = dataframe.drop(column_name, axis=1)\n",
    "    \n",
    "    # Insert the column in the beggining as index 0 and axis 1\n",
    "    dataframe.insert(0, column_name, column_to_move)\n",
    "    \n",
    "    return dataframe"
   ]
  },
  {
   "cell_type": "code",
   "execution_count": null,
   "id": "a35a0b1b-6655-44d7-9b0e-f5908a099d41",
   "metadata": {},
   "outputs": [],
   "source": [
    "bakery_data = move_column_to_beginning(bakery_data, 'ticket_number')"
   ]
  },
  {
   "cell_type": "code",
   "execution_count": null,
   "id": "4bd944d6-2018-4e66-9b73-aebc3efa5aa6",
   "metadata": {},
   "outputs": [],
   "source": [
    "bakery_data.info()\n",
    "bakery_data.describe(include=object).T"
   ]
  },
  {
   "cell_type": "code",
   "execution_count": null,
   "id": "6c291d96-721e-4f9c-af6e-280f11297c4b",
   "metadata": {},
   "outputs": [],
   "source": [
    "def convert_column_to_float(df: pd.DataFrame, column_name: str, symbol_to_remove: str) -> pd.DataFrame:\n",
    "    \"\"\"\n",
    "    Convert a column in a DataFrame from object to float64 type,\n",
    "    remove a specified symbol, and substitute ',' with '.' in its values.\n",
    "    \n",
    "    Args:\n",
    "        df (pd.DataFrame): The DataFrame containing the column.\n",
    "        column_name (str): The name of the column to convert.\n",
    "        symbol_to_remove (str): The symbol to remove from the column values.\n",
    "    \n",
    "    Returns:\n",
    "        pd.DataFrame: The modified DataFrame with the specified column converted to float64 type,\n",
    "                      the symbol removed from its values, and ',' substituted with '.'.\n",
    "    \"\"\"\n",
    "    # Create a copy of the original DataFrame\n",
    "    modified_df = df.copy()\n",
    "    \n",
    "    # Remove specified symbol from the column values in the copied DataFrame\n",
    "    modified_df[column_name] = modified_df[column_name].str.replace(symbol_to_remove, '')\n",
    "    \n",
    "    # Substitute ',' with '.' in the column values in the copied DataFrame\n",
    "    modified_df[column_name] = modified_df[column_name].str.replace(',', '.')\n",
    "    \n",
    "    # Convert the copied column to float64 type in the copied DataFrame\n",
    "    modified_df[column_name] = modified_df[column_name].astype('float64')\n",
    "    \n",
    "    return modified_df\n"
   ]
  },
  {
   "cell_type": "code",
   "execution_count": null,
   "id": "383e65da-a383-4af6-8e6d-050fbfac720e",
   "metadata": {},
   "outputs": [],
   "source": [
    "converted_bakery_data = convert_column_to_float(bakery_data, 'unit_price', '€')"
   ]
  },
  {
   "cell_type": "code",
   "execution_count": null,
   "id": "de33e7a9-e2fa-43f8-8e84-97bad55cdec7",
   "metadata": {},
   "outputs": [],
   "source": [
    "display(converted_bakery_data)"
   ]
  },
  {
   "cell_type": "code",
   "execution_count": null,
   "id": "102a0fb9-68d5-426d-99f3-44104d59475b",
   "metadata": {},
   "outputs": [],
   "source": [
    "bakery_data = converted_bakery_data"
   ]
  },
  {
   "cell_type": "code",
   "execution_count": null,
   "id": "df4a5be6-809f-4076-98e6-e658350dc290",
   "metadata": {},
   "outputs": [],
   "source": [
    "bakery_data.info()\n",
    "round(bakery_data.describe(),2)"
   ]
  },
  {
   "cell_type": "code",
   "execution_count": null,
   "id": "e0f97bc2-2877-4c08-9e47-8da5301796b6",
   "metadata": {},
   "outputs": [],
   "source": [
    "bakery_data.describe(include=object)"
   ]
  },
  {
   "cell_type": "code",
   "execution_count": null,
   "id": "46b9666a-629b-4ab0-a1da-fa7b10fa87a1",
   "metadata": {},
   "outputs": [],
   "source": [
    "bakery_data = bakery_data.drop(bakery_data.index[bakery_data['quantity'] < 0])"
   ]
  },
  {
   "cell_type": "code",
   "execution_count": null,
   "id": "9f429214-b8bf-4f81-ac02-3f1518ecf077",
   "metadata": {},
   "outputs": [],
   "source": [
    "round(bakery_data.describe(),2)"
   ]
  },
  {
   "cell_type": "code",
   "execution_count": null,
   "id": "d8d2c2ee-3f32-4c9c-baa2-06397b93f9b5",
   "metadata": {},
   "outputs": [],
   "source": [
    "bakery_data.describe(include=object)"
   ]
  },
  {
   "cell_type": "code",
   "execution_count": null,
   "id": "f1ad5ac3-78d7-4696-8713-ff36f8317c59",
   "metadata": {},
   "outputs": [],
   "source": [
    "bakery_data['unit_price'].unique()"
   ]
  },
  {
   "cell_type": "code",
   "execution_count": null,
   "id": "54d224c1-acec-4a3b-bed8-a38744e7de59",
   "metadata": {},
   "outputs": [],
   "source": [
    "ordered_by_price_data = bakery_data.copy()"
   ]
  },
  {
   "cell_type": "code",
   "execution_count": null,
   "id": "48b265f4-96fa-443c-a0f9-0e9d27ce155c",
   "metadata": {},
   "outputs": [],
   "source": [
    "display(ordered_by_price_data.sort_values('unit_price'))"
   ]
  },
  {
   "cell_type": "code",
   "execution_count": null,
   "id": "677c9efa-96e8-4f54-ba52-d9bc09b2cfa7",
   "metadata": {},
   "outputs": [],
   "source": [
    "df_filtered = ordered_by_price_data[ordered_by_price_data['unit_price'] >= 0.01]"
   ]
  },
  {
   "cell_type": "code",
   "execution_count": null,
   "id": "9487e77b-b1ef-484d-9d95-c8657925f9f7",
   "metadata": {},
   "outputs": [],
   "source": [
    "display(df_filtered.sort_values('unit_price').head())"
   ]
  },
  {
   "cell_type": "code",
   "execution_count": null,
   "id": "26dc4b4d-d5cf-465e-92b2-37e097ed7568",
   "metadata": {},
   "outputs": [],
   "source": [
    "bakery_data = df_filtered"
   ]
  },
  {
   "cell_type": "code",
   "execution_count": null,
   "id": "0facd54c-1188-4262-9134-ce6eb72aae77",
   "metadata": {},
   "outputs": [],
   "source": [
    "bakery_data.info()\n",
    "round(bakery_data.describe(),2).T"
   ]
  },
  {
   "cell_type": "code",
   "execution_count": null,
   "id": "4d402a35-7541-4893-af14-c7cde1b08d91",
   "metadata": {},
   "outputs": [],
   "source": [
    "bakery_data.describe(include=object)"
   ]
  },
  {
   "cell_type": "code",
   "execution_count": null,
   "id": "cdc28ba7-fb56-4f77-9ab8-3103719bad94",
   "metadata": {},
   "outputs": [],
   "source": [
    "bakery_data_table = bakery_data.copy()"
   ]
  },
  {
   "cell_type": "code",
   "execution_count": null,
   "id": "72973f39-ebdf-4266-ae85-d03a341d94e0",
   "metadata": {},
   "outputs": [],
   "source": [
    "bakery_price_table = bakery_data_table[['article','unit_price']]\n",
    "bakery_price_table = bakery_price_table.drop_duplicates()"
   ]
  },
  {
   "cell_type": "code",
   "execution_count": null,
   "id": "be203727-ef8a-4a7c-8fc3-840fe6540d21",
   "metadata": {},
   "outputs": [],
   "source": [
    "bakery_price_table = bakery_price_table.reset_index(drop=True)"
   ]
  },
  {
   "cell_type": "code",
   "execution_count": null,
   "id": "d3510c09-db33-4e1d-ba3a-e0bdd85a78c3",
   "metadata": {},
   "outputs": [],
   "source": [
    "bakery_price_table = bakery_price_table.sort_values(by=['article'], ignore_index=True)\n",
    "bakery_price_table = bakery_price_table.drop_duplicates(subset='article', keep=\"last\").reset_index(drop=True)"
   ]
  },
  {
   "cell_type": "code",
   "execution_count": null,
   "id": "0afe96e6-27a7-4721-94dc-2135fb74f088",
   "metadata": {},
   "outputs": [],
   "source": [
    "display(bakery_price_table)"
   ]
  },
  {
   "cell_type": "code",
   "execution_count": null,
   "id": "dcd2a6d4-2db6-456d-a409-31e44d0ec1d4",
   "metadata": {},
   "outputs": [],
   "source": [
    "bakery_price_table.describe().T"
   ]
  },
  {
   "cell_type": "code",
   "execution_count": null,
   "id": "44fe7279-d74a-45cf-bf59-b6f1b3afd293",
   "metadata": {},
   "outputs": [],
   "source": [
    "merged_df = bakery_data.merge(bakery_price_table, on='article', how='left')\n",
    "merged_df['unit_price_x'].fillna(merged_df['unit_price_y'], inplace=True)\n",
    "merged_df.drop(['unit_price_x'], axis=1, inplace=True)\n",
    "merged_df.rename(columns={'unit_price_y': 'unit_price'}, inplace=True)\n",
    "\n",
    "display(merged_df)"
   ]
  },
  {
   "cell_type": "code",
   "execution_count": null,
   "id": "b5d0bbb2-b517-46b4-b142-ce893fca4930",
   "metadata": {},
   "outputs": [],
   "source": [
    "bakery_data = merged_df\n",
    "bakery_data['article_total'] = bakery_data['unit_price'] * bakery_data['quantity'] # create a new column for the product of unit_price and quantity"
   ]
  },
  {
   "cell_type": "code",
   "execution_count": null,
   "id": "b0156142-7fb4-4353-8dec-7d14fa107a28",
   "metadata": {},
   "outputs": [],
   "source": [
    "display(bakery_data)"
   ]
  },
  {
   "cell_type": "code",
   "execution_count": null,
   "id": "acbfeef4-9bde-4d98-8be1-15bde9ca3ae1",
   "metadata": {},
   "outputs": [],
   "source": [
    "tickets_total = bakery_data.groupby(by='ticket_number')['article_total'].sum()\n",
    "tickets_total.columns = ['ticket_number', 'total_ticket']"
   ]
  },
  {
   "cell_type": "code",
   "execution_count": null,
   "id": "df97eb83-cecd-49c0-8ac3-16f20d2bcaac",
   "metadata": {},
   "outputs": [],
   "source": [
    "display(tickets_total)"
   ]
  },
  {
   "cell_type": "code",
   "execution_count": null,
   "id": "4f678d2f-c772-47d4-9a21-7adf50b1a51d",
   "metadata": {},
   "outputs": [],
   "source": [
    "tickets_total.info()"
   ]
  },
  {
   "cell_type": "code",
   "execution_count": null,
   "id": "3bd5fecb-195e-490e-9978-1bfea86a68f1",
   "metadata": {},
   "outputs": [],
   "source": [
    "tickets_total = tickets_total.to_frame(name=\"total_ticket\")"
   ]
  },
  {
   "cell_type": "code",
   "execution_count": null,
   "id": "eab42c89-15a9-4766-a673-2cc0d3f9885e",
   "metadata": {},
   "outputs": [],
   "source": [
    "display(tickets_total)"
   ]
  },
  {
   "cell_type": "code",
   "execution_count": null,
   "id": "d5f51c4c-5415-4f74-965e-794b21229eac",
   "metadata": {},
   "outputs": [],
   "source": [
    "tickets_total.info()\n",
    "round(tickets_total.describe().T,2)"
   ]
  },
  {
   "cell_type": "code",
   "execution_count": null,
   "id": "3dd4165d-b04f-491a-84c3-5cd0d0b5c447",
   "metadata": {},
   "outputs": [],
   "source": [
    "bakery_data.to_csv('../data/clean_data/bakery_data.csv')\n",
    "tickets_total.to_csv('../data/clean_data/tickets_total.csv')\n",
    "bakery_price_table.to_csv('../data/clean_data/bakery_price_table.csv')"
   ]
  }
 ],
 "metadata": {
  "kernelspec": {
   "display_name": "midcamp_env",
   "language": "python",
   "name": "midcamp_env"
  },
  "language_info": {
   "codemirror_mode": {
    "name": "ipython",
    "version": 3
   },
   "file_extension": ".py",
   "mimetype": "text/x-python",
   "name": "python",
   "nbconvert_exporter": "python",
   "pygments_lexer": "ipython3",
   "version": "3.10.9"
  }
 },
 "nbformat": 4,
 "nbformat_minor": 5
}
